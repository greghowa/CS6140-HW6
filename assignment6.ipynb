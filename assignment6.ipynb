{
 "cells": [
  {
   "attachments": {},
   "cell_type": "markdown",
   "id": "57061f68",
   "metadata": {},
   "source": [
    "Ravi, Xiong, and Howard<br>\n",
    "CS 6140: Machine Learning<br>\n",
    "Northeastern University<br>\n",
    "March 27, 2023"
   ]
  },
  {
   "attachments": {},
   "cell_type": "markdown",
   "id": "5e36b5f4",
   "metadata": {},
   "source": [
    "## HW 6: Comprehensive Supervised Learning"
   ]
  },
  {
   "attachments": {},
   "cell_type": "markdown",
   "id": "f6c2740d",
   "metadata": {},
   "source": [
    "### 0. Imports and data clean up"
   ]
  },
  {
   "attachments": {},
   "cell_type": "markdown",
   "id": "dbc7efc5",
   "metadata": {},
   "source": [
    "##### 0.1 Import libraries"
   ]
  },
  {
   "cell_type": "code",
   "execution_count": 1,
   "id": "4c1b37fe",
   "metadata": {},
   "outputs": [],
   "source": [
    "import pandas as pd\n",
    "import numpy as np\n",
    "import seaborn as sns\n",
    "import matplotlib.pyplot as plt\n",
    "from sklearn.preprocessing import StandardScaler\n",
    "from sklearn.metrics import accuracy_score, confusion_matrix, mean_squared_error, precision_score, recall_score, f1_score, r2_score\n",
    "from sklearn.model_selection import train_test_split\n",
    "from sklearn.neighbors import LocalOutlierFactor\n",
    "\n",
    "# Deliver with style\n",
    "plt.style.use('dark_background')\n",
    "import warnings\n",
    "warnings.filterwarnings('ignore') \n",
    "sns.set(rc={'figure.figsize':(11,8)})\n",
    "pd.options.display.float_format = '{:.2f}'.format"
   ]
  },
  {
   "attachments": {},
   "cell_type": "markdown",
   "id": "839c95ff",
   "metadata": {},
   "source": [
    "##### 0.2 Read the data"
   ]
  },
  {
   "cell_type": "code",
   "execution_count": 2,
   "id": "86cae155",
   "metadata": {},
   "outputs": [
    {
     "name": "stdout",
     "output_type": "stream",
     "text": [
      "(418268, 249)\n",
      "(438693, 249)\n"
     ]
    }
   ],
   "source": [
    "# Read data from csv\n",
    "df19 = pd.read_csv('data/brfss19.csv', usecols = range(1, 250))\n",
    "df21 = pd.read_csv('data/brfss21.csv', usecols = range(1, 250))\n",
    "\n",
    "# Shape of the dataframes\n",
    "print(df19.shape)\n",
    "print(df21.shape)"
   ]
  },
  {
   "cell_type": "code",
   "execution_count": 3,
   "id": "ec0f2dce",
   "metadata": {},
   "outputs": [
    {
     "data": {
      "text/html": [
       "<div>\n",
       "<style scoped>\n",
       "    .dataframe tbody tr th:only-of-type {\n",
       "        vertical-align: middle;\n",
       "    }\n",
       "\n",
       "    .dataframe tbody tr th {\n",
       "        vertical-align: top;\n",
       "    }\n",
       "\n",
       "    .dataframe thead th {\n",
       "        text-align: right;\n",
       "    }\n",
       "</style>\n",
       "<table border=\"1\" class=\"dataframe\">\n",
       "  <thead>\n",
       "    <tr style=\"text-align: right;\">\n",
       "      <th></th>\n",
       "      <th>_STATE</th>\n",
       "      <th>FMONTH</th>\n",
       "      <th>IDATE</th>\n",
       "      <th>IMONTH</th>\n",
       "      <th>IDAY</th>\n",
       "      <th>IYEAR</th>\n",
       "      <th>DISPCODE</th>\n",
       "      <th>SEQNO</th>\n",
       "      <th>_PSU</th>\n",
       "      <th>CTELENM1</th>\n",
       "      <th>...</th>\n",
       "      <th>_FRUTSU1</th>\n",
       "      <th>_VEGESU1</th>\n",
       "      <th>_FRTLT1A</th>\n",
       "      <th>_VEGLT1A</th>\n",
       "      <th>_FRT16A</th>\n",
       "      <th>_VEG23A</th>\n",
       "      <th>_FRUITE1</th>\n",
       "      <th>_VEGETE1</th>\n",
       "      <th>_FLSHOT7</th>\n",
       "      <th>_PNEUMO3</th>\n",
       "    </tr>\n",
       "  </thead>\n",
       "  <tbody>\n",
       "    <tr>\n",
       "      <th>0</th>\n",
       "      <td>1</td>\n",
       "      <td>1</td>\n",
       "      <td>1182019</td>\n",
       "      <td>1</td>\n",
       "      <td>18</td>\n",
       "      <td>2019</td>\n",
       "      <td>1100</td>\n",
       "      <td>2019000001</td>\n",
       "      <td>2019000001</td>\n",
       "      <td>1.00</td>\n",
       "      <td>...</td>\n",
       "      <td>200.00</td>\n",
       "      <td>114.00</td>\n",
       "      <td>1</td>\n",
       "      <td>1</td>\n",
       "      <td>1</td>\n",
       "      <td>1</td>\n",
       "      <td>0</td>\n",
       "      <td>0</td>\n",
       "      <td>2.00</td>\n",
       "      <td>1.00</td>\n",
       "    </tr>\n",
       "    <tr>\n",
       "      <th>1</th>\n",
       "      <td>1</td>\n",
       "      <td>1</td>\n",
       "      <td>1132019</td>\n",
       "      <td>1</td>\n",
       "      <td>13</td>\n",
       "      <td>2019</td>\n",
       "      <td>1100</td>\n",
       "      <td>2019000002</td>\n",
       "      <td>2019000002</td>\n",
       "      <td>1.00</td>\n",
       "      <td>...</td>\n",
       "      <td>100.00</td>\n",
       "      <td>121.00</td>\n",
       "      <td>1</td>\n",
       "      <td>1</td>\n",
       "      <td>1</td>\n",
       "      <td>1</td>\n",
       "      <td>0</td>\n",
       "      <td>0</td>\n",
       "      <td>1.00</td>\n",
       "      <td>1.00</td>\n",
       "    </tr>\n",
       "    <tr>\n",
       "      <th>2</th>\n",
       "      <td>1</td>\n",
       "      <td>1</td>\n",
       "      <td>1182019</td>\n",
       "      <td>1</td>\n",
       "      <td>18</td>\n",
       "      <td>2019</td>\n",
       "      <td>1100</td>\n",
       "      <td>2019000003</td>\n",
       "      <td>2019000003</td>\n",
       "      <td>1.00</td>\n",
       "      <td>...</td>\n",
       "      <td>114.00</td>\n",
       "      <td>164.00</td>\n",
       "      <td>1</td>\n",
       "      <td>1</td>\n",
       "      <td>1</td>\n",
       "      <td>1</td>\n",
       "      <td>0</td>\n",
       "      <td>0</td>\n",
       "      <td>1.00</td>\n",
       "      <td>2.00</td>\n",
       "    </tr>\n",
       "    <tr>\n",
       "      <th>3</th>\n",
       "      <td>1</td>\n",
       "      <td>1</td>\n",
       "      <td>1182019</td>\n",
       "      <td>1</td>\n",
       "      <td>18</td>\n",
       "      <td>2019</td>\n",
       "      <td>1200</td>\n",
       "      <td>2019000004</td>\n",
       "      <td>2019000004</td>\n",
       "      <td>1.00</td>\n",
       "      <td>...</td>\n",
       "      <td>NaN</td>\n",
       "      <td>NaN</td>\n",
       "      <td>9</td>\n",
       "      <td>9</td>\n",
       "      <td>1</td>\n",
       "      <td>1</td>\n",
       "      <td>1</td>\n",
       "      <td>1</td>\n",
       "      <td>9.00</td>\n",
       "      <td>9.00</td>\n",
       "    </tr>\n",
       "    <tr>\n",
       "      <th>4</th>\n",
       "      <td>1</td>\n",
       "      <td>1</td>\n",
       "      <td>1042019</td>\n",
       "      <td>1</td>\n",
       "      <td>4</td>\n",
       "      <td>2019</td>\n",
       "      <td>1100</td>\n",
       "      <td>2019000005</td>\n",
       "      <td>2019000005</td>\n",
       "      <td>1.00</td>\n",
       "      <td>...</td>\n",
       "      <td>143.00</td>\n",
       "      <td>178.00</td>\n",
       "      <td>1</td>\n",
       "      <td>1</td>\n",
       "      <td>1</td>\n",
       "      <td>1</td>\n",
       "      <td>0</td>\n",
       "      <td>0</td>\n",
       "      <td>2.00</td>\n",
       "      <td>1.00</td>\n",
       "    </tr>\n",
       "  </tbody>\n",
       "</table>\n",
       "<p>5 rows × 249 columns</p>\n",
       "</div>"
      ],
      "text/plain": [
       "   _STATE  FMONTH    IDATE  IMONTH  IDAY  IYEAR  DISPCODE       SEQNO  \\\n",
       "0       1       1  1182019       1    18   2019      1100  2019000001   \n",
       "1       1       1  1132019       1    13   2019      1100  2019000002   \n",
       "2       1       1  1182019       1    18   2019      1100  2019000003   \n",
       "3       1       1  1182019       1    18   2019      1200  2019000004   \n",
       "4       1       1  1042019       1     4   2019      1100  2019000005   \n",
       "\n",
       "         _PSU  CTELENM1  ...  _FRUTSU1  _VEGESU1  _FRTLT1A  _VEGLT1A  _FRT16A  \\\n",
       "0  2019000001      1.00  ...    200.00    114.00         1         1        1   \n",
       "1  2019000002      1.00  ...    100.00    121.00         1         1        1   \n",
       "2  2019000003      1.00  ...    114.00    164.00         1         1        1   \n",
       "3  2019000004      1.00  ...       NaN       NaN         9         9        1   \n",
       "4  2019000005      1.00  ...    143.00    178.00         1         1        1   \n",
       "\n",
       "   _VEG23A  _FRUITE1  _VEGETE1  _FLSHOT7  _PNEUMO3  \n",
       "0        1         0         0      2.00      1.00  \n",
       "1        1         0         0      1.00      1.00  \n",
       "2        1         0         0      1.00      2.00  \n",
       "3        1         1         1      9.00      9.00  \n",
       "4        1         0         0      2.00      1.00  \n",
       "\n",
       "[5 rows x 249 columns]"
      ]
     },
     "execution_count": 3,
     "metadata": {},
     "output_type": "execute_result"
    }
   ],
   "source": [
    "df19.head()"
   ]
  },
  {
   "cell_type": "code",
   "execution_count": 4,
   "id": "c82ac60e",
   "metadata": {},
   "outputs": [
    {
     "data": {
      "text/html": [
       "<div>\n",
       "<style scoped>\n",
       "    .dataframe tbody tr th:only-of-type {\n",
       "        vertical-align: middle;\n",
       "    }\n",
       "\n",
       "    .dataframe tbody tr th {\n",
       "        vertical-align: top;\n",
       "    }\n",
       "\n",
       "    .dataframe thead th {\n",
       "        text-align: right;\n",
       "    }\n",
       "</style>\n",
       "<table border=\"1\" class=\"dataframe\">\n",
       "  <thead>\n",
       "    <tr style=\"text-align: right;\">\n",
       "      <th></th>\n",
       "      <th>_STATE</th>\n",
       "      <th>FMONTH</th>\n",
       "      <th>IDATE</th>\n",
       "      <th>IMONTH</th>\n",
       "      <th>IDAY</th>\n",
       "      <th>IYEAR</th>\n",
       "      <th>DISPCODE</th>\n",
       "      <th>SEQNO</th>\n",
       "      <th>_PSU</th>\n",
       "      <th>CTELENM1</th>\n",
       "      <th>...</th>\n",
       "      <th>_MISVEG1</th>\n",
       "      <th>_FRTRES1</th>\n",
       "      <th>_VEGRES1</th>\n",
       "      <th>_FRUTSU1</th>\n",
       "      <th>_VEGESU1</th>\n",
       "      <th>_FRTLT1A</th>\n",
       "      <th>_VEGLT1A</th>\n",
       "      <th>_FRT16A</th>\n",
       "      <th>_VEG23A</th>\n",
       "      <th>_FRUITE1</th>\n",
       "    </tr>\n",
       "  </thead>\n",
       "  <tbody>\n",
       "    <tr>\n",
       "      <th>0</th>\n",
       "      <td>1.00</td>\n",
       "      <td>1.00</td>\n",
       "      <td>b'01192021'</td>\n",
       "      <td>b'01'</td>\n",
       "      <td>b'19'</td>\n",
       "      <td>b'2021'</td>\n",
       "      <td>1100.00</td>\n",
       "      <td>b'2021000001'</td>\n",
       "      <td>2021000001.00</td>\n",
       "      <td>1.00</td>\n",
       "      <td>...</td>\n",
       "      <td>0.00</td>\n",
       "      <td>1.00</td>\n",
       "      <td>1.00</td>\n",
       "      <td>100.00</td>\n",
       "      <td>214.00</td>\n",
       "      <td>1.00</td>\n",
       "      <td>1.00</td>\n",
       "      <td>1.00</td>\n",
       "      <td>1.00</td>\n",
       "      <td>0.00</td>\n",
       "    </tr>\n",
       "    <tr>\n",
       "      <th>1</th>\n",
       "      <td>1.00</td>\n",
       "      <td>1.00</td>\n",
       "      <td>b'01212021'</td>\n",
       "      <td>b'01'</td>\n",
       "      <td>b'21'</td>\n",
       "      <td>b'2021'</td>\n",
       "      <td>1100.00</td>\n",
       "      <td>b'2021000002'</td>\n",
       "      <td>2021000002.00</td>\n",
       "      <td>1.00</td>\n",
       "      <td>...</td>\n",
       "      <td>0.00</td>\n",
       "      <td>1.00</td>\n",
       "      <td>1.00</td>\n",
       "      <td>100.00</td>\n",
       "      <td>128.00</td>\n",
       "      <td>1.00</td>\n",
       "      <td>1.00</td>\n",
       "      <td>1.00</td>\n",
       "      <td>1.00</td>\n",
       "      <td>0.00</td>\n",
       "    </tr>\n",
       "    <tr>\n",
       "      <th>2</th>\n",
       "      <td>1.00</td>\n",
       "      <td>1.00</td>\n",
       "      <td>b'01212021'</td>\n",
       "      <td>b'01'</td>\n",
       "      <td>b'21'</td>\n",
       "      <td>b'2021'</td>\n",
       "      <td>1100.00</td>\n",
       "      <td>b'2021000003'</td>\n",
       "      <td>2021000003.00</td>\n",
       "      <td>1.00</td>\n",
       "      <td>...</td>\n",
       "      <td>0.00</td>\n",
       "      <td>1.00</td>\n",
       "      <td>1.00</td>\n",
       "      <td>100.00</td>\n",
       "      <td>71.00</td>\n",
       "      <td>1.00</td>\n",
       "      <td>2.00</td>\n",
       "      <td>1.00</td>\n",
       "      <td>1.00</td>\n",
       "      <td>0.00</td>\n",
       "    </tr>\n",
       "    <tr>\n",
       "      <th>3</th>\n",
       "      <td>1.00</td>\n",
       "      <td>1.00</td>\n",
       "      <td>b'01172021'</td>\n",
       "      <td>b'01'</td>\n",
       "      <td>b'17'</td>\n",
       "      <td>b'2021'</td>\n",
       "      <td>1100.00</td>\n",
       "      <td>b'2021000004'</td>\n",
       "      <td>2021000004.00</td>\n",
       "      <td>1.00</td>\n",
       "      <td>...</td>\n",
       "      <td>0.00</td>\n",
       "      <td>1.00</td>\n",
       "      <td>1.00</td>\n",
       "      <td>114.00</td>\n",
       "      <td>165.00</td>\n",
       "      <td>1.00</td>\n",
       "      <td>1.00</td>\n",
       "      <td>1.00</td>\n",
       "      <td>1.00</td>\n",
       "      <td>0.00</td>\n",
       "    </tr>\n",
       "    <tr>\n",
       "      <th>4</th>\n",
       "      <td>1.00</td>\n",
       "      <td>1.00</td>\n",
       "      <td>b'01152021'</td>\n",
       "      <td>b'01'</td>\n",
       "      <td>b'15'</td>\n",
       "      <td>b'2021'</td>\n",
       "      <td>1100.00</td>\n",
       "      <td>b'2021000005'</td>\n",
       "      <td>2021000005.00</td>\n",
       "      <td>1.00</td>\n",
       "      <td>...</td>\n",
       "      <td>0.00</td>\n",
       "      <td>1.00</td>\n",
       "      <td>1.00</td>\n",
       "      <td>100.00</td>\n",
       "      <td>258.00</td>\n",
       "      <td>1.00</td>\n",
       "      <td>1.00</td>\n",
       "      <td>1.00</td>\n",
       "      <td>1.00</td>\n",
       "      <td>0.00</td>\n",
       "    </tr>\n",
       "  </tbody>\n",
       "</table>\n",
       "<p>5 rows × 249 columns</p>\n",
       "</div>"
      ],
      "text/plain": [
       "   _STATE  FMONTH        IDATE IMONTH   IDAY    IYEAR  DISPCODE  \\\n",
       "0    1.00    1.00  b'01192021'  b'01'  b'19'  b'2021'   1100.00   \n",
       "1    1.00    1.00  b'01212021'  b'01'  b'21'  b'2021'   1100.00   \n",
       "2    1.00    1.00  b'01212021'  b'01'  b'21'  b'2021'   1100.00   \n",
       "3    1.00    1.00  b'01172021'  b'01'  b'17'  b'2021'   1100.00   \n",
       "4    1.00    1.00  b'01152021'  b'01'  b'15'  b'2021'   1100.00   \n",
       "\n",
       "           SEQNO          _PSU  CTELENM1  ...  _MISVEG1  _FRTRES1  _VEGRES1  \\\n",
       "0  b'2021000001' 2021000001.00      1.00  ...      0.00      1.00      1.00   \n",
       "1  b'2021000002' 2021000002.00      1.00  ...      0.00      1.00      1.00   \n",
       "2  b'2021000003' 2021000003.00      1.00  ...      0.00      1.00      1.00   \n",
       "3  b'2021000004' 2021000004.00      1.00  ...      0.00      1.00      1.00   \n",
       "4  b'2021000005' 2021000005.00      1.00  ...      0.00      1.00      1.00   \n",
       "\n",
       "   _FRUTSU1  _VEGESU1  _FRTLT1A  _VEGLT1A  _FRT16A  _VEG23A  _FRUITE1  \n",
       "0    100.00    214.00      1.00      1.00     1.00     1.00      0.00  \n",
       "1    100.00    128.00      1.00      1.00     1.00     1.00      0.00  \n",
       "2    100.00     71.00      1.00      2.00     1.00     1.00      0.00  \n",
       "3    114.00    165.00      1.00      1.00     1.00     1.00      0.00  \n",
       "4    100.00    258.00      1.00      1.00     1.00     1.00      0.00  \n",
       "\n",
       "[5 rows x 249 columns]"
      ]
     },
     "execution_count": 4,
     "metadata": {},
     "output_type": "execute_result"
    }
   ],
   "source": [
    "df21.head()"
   ]
  },
  {
   "attachments": {},
   "cell_type": "markdown",
   "id": "b2e13676",
   "metadata": {},
   "source": [
    "##### 0.3 Align the dataframes"
   ]
  },
  {
   "cell_type": "code",
   "execution_count": 5,
   "id": "fbf8b2d2",
   "metadata": {},
   "outputs": [
    {
     "data": {
      "text/plain": [
       "{'CHCCOPD2', 'CHCCOPD3', 'INCOME2', 'INCOME3', '_AIDTST4', '_VEGETE1'}"
      ]
     },
     "execution_count": 5,
     "metadata": {},
     "output_type": "execute_result"
    }
   ],
   "source": [
    "# Compare the different column names in the two data frame\n",
    "(set(df19.columns) | set(df21.columns)) - (set(df19.columns) & set(df21.columns))"
   ]
  },
  {
   "attachments": {},
   "cell_type": "markdown",
   "id": "d8653be5",
   "metadata": {},
   "source": [
    "* The dataframes diverge in only two response column names, which are 'CHCCOPD2' and 'CHCCOPD3'.\n",
    "* Since the two names stand for the same thing, we will rename both of these columns df21['CHCCOPD3'] and df19['CHCCOPD2] as 'COPD'.\n",
    "* For 'INCOME2' and 'INCOME3' we will also rename and preserve as 'INCOME2'.\n",
    "* We will drop '_AIDTST4' and '_VEGETE1' entirely."
   ]
  },
  {
   "cell_type": "code",
   "execution_count": 6,
   "id": "cab366b9",
   "metadata": {},
   "outputs": [],
   "source": [
    "# Renaming the columns to match each other\n",
    "df21.rename(columns = {'CHCCOPD3':'COPD'}, inplace = True)\n",
    "df19.rename(columns = {'CHCCOPD2':'COPD'}, inplace = True)"
   ]
  },
  {
   "cell_type": "code",
   "execution_count": 7,
   "id": "5657ddc4",
   "metadata": {},
   "outputs": [],
   "source": [
    "# Renaming INCOME3 of df21 to INCOME2 to match with df19\n",
    "df21.rename(columns = {'INCOME3' : 'INCOME2'}, inplace = True)"
   ]
  },
  {
   "cell_type": "code",
   "execution_count": 8,
   "id": "df257993",
   "metadata": {},
   "outputs": [],
   "source": [
    "# Dropping _AIDTST4 and _VEGETE1\n",
    "df21 = df21.drop('_AIDTST4', axis=1)\n",
    "df19 = df19.drop('_VEGETE1', axis=1)"
   ]
  },
  {
   "cell_type": "code",
   "execution_count": 9,
   "id": "3ce6dc38",
   "metadata": {},
   "outputs": [
    {
     "name": "stdout",
     "output_type": "stream",
     "text": [
      "set()\n"
     ]
    }
   ],
   "source": [
    "# Confirming no issue\n",
    "print(set(df21.columns) - set(df19.columns))\n",
    "for column in df21.columns:\n",
    "    if column not in set(df19.columns):\n",
    "        print(column)\n",
    "for column in df19.columns:\n",
    "    if column not in set(df21.columns):\n",
    "        print(column)"
   ]
  },
  {
   "attachments": {},
   "cell_type": "markdown",
   "id": "0d73da90",
   "metadata": {},
   "source": [
    "##### 0.4 Combine the dataframes"
   ]
  },
  {
   "cell_type": "code",
   "execution_count": 10,
   "id": "29efb83b",
   "metadata": {},
   "outputs": [
    {
     "data": {
      "text/html": [
       "<div>\n",
       "<style scoped>\n",
       "    .dataframe tbody tr th:only-of-type {\n",
       "        vertical-align: middle;\n",
       "    }\n",
       "\n",
       "    .dataframe tbody tr th {\n",
       "        vertical-align: top;\n",
       "    }\n",
       "\n",
       "    .dataframe thead th {\n",
       "        text-align: right;\n",
       "    }\n",
       "</style>\n",
       "<table border=\"1\" class=\"dataframe\">\n",
       "  <thead>\n",
       "    <tr style=\"text-align: right;\">\n",
       "      <th></th>\n",
       "      <th>_STATE</th>\n",
       "      <th>FMONTH</th>\n",
       "      <th>IDATE</th>\n",
       "      <th>IMONTH</th>\n",
       "      <th>IDAY</th>\n",
       "      <th>IYEAR</th>\n",
       "      <th>DISPCODE</th>\n",
       "      <th>SEQNO</th>\n",
       "      <th>_PSU</th>\n",
       "      <th>CTELENM1</th>\n",
       "      <th>...</th>\n",
       "      <th>_VEGRES1</th>\n",
       "      <th>_FRUTSU1</th>\n",
       "      <th>_VEGESU1</th>\n",
       "      <th>_FRTLT1A</th>\n",
       "      <th>_VEGLT1A</th>\n",
       "      <th>_FRT16A</th>\n",
       "      <th>_VEG23A</th>\n",
       "      <th>_FRUITE1</th>\n",
       "      <th>_FLSHOT7</th>\n",
       "      <th>_PNEUMO3</th>\n",
       "    </tr>\n",
       "  </thead>\n",
       "  <tbody>\n",
       "    <tr>\n",
       "      <th>0</th>\n",
       "      <td>1.00</td>\n",
       "      <td>1.00</td>\n",
       "      <td>1182019</td>\n",
       "      <td>1</td>\n",
       "      <td>18</td>\n",
       "      <td>2019</td>\n",
       "      <td>1100.00</td>\n",
       "      <td>2019000001</td>\n",
       "      <td>2019000001.00</td>\n",
       "      <td>1.00</td>\n",
       "      <td>...</td>\n",
       "      <td>1.00</td>\n",
       "      <td>200.00</td>\n",
       "      <td>114.00</td>\n",
       "      <td>1.00</td>\n",
       "      <td>1.00</td>\n",
       "      <td>1.00</td>\n",
       "      <td>1.00</td>\n",
       "      <td>0.00</td>\n",
       "      <td>2.00</td>\n",
       "      <td>1.00</td>\n",
       "    </tr>\n",
       "    <tr>\n",
       "      <th>1</th>\n",
       "      <td>1.00</td>\n",
       "      <td>1.00</td>\n",
       "      <td>1132019</td>\n",
       "      <td>1</td>\n",
       "      <td>13</td>\n",
       "      <td>2019</td>\n",
       "      <td>1100.00</td>\n",
       "      <td>2019000002</td>\n",
       "      <td>2019000002.00</td>\n",
       "      <td>1.00</td>\n",
       "      <td>...</td>\n",
       "      <td>1.00</td>\n",
       "      <td>100.00</td>\n",
       "      <td>121.00</td>\n",
       "      <td>1.00</td>\n",
       "      <td>1.00</td>\n",
       "      <td>1.00</td>\n",
       "      <td>1.00</td>\n",
       "      <td>0.00</td>\n",
       "      <td>1.00</td>\n",
       "      <td>1.00</td>\n",
       "    </tr>\n",
       "    <tr>\n",
       "      <th>2</th>\n",
       "      <td>1.00</td>\n",
       "      <td>1.00</td>\n",
       "      <td>1182019</td>\n",
       "      <td>1</td>\n",
       "      <td>18</td>\n",
       "      <td>2019</td>\n",
       "      <td>1100.00</td>\n",
       "      <td>2019000003</td>\n",
       "      <td>2019000003.00</td>\n",
       "      <td>1.00</td>\n",
       "      <td>...</td>\n",
       "      <td>1.00</td>\n",
       "      <td>114.00</td>\n",
       "      <td>164.00</td>\n",
       "      <td>1.00</td>\n",
       "      <td>1.00</td>\n",
       "      <td>1.00</td>\n",
       "      <td>1.00</td>\n",
       "      <td>0.00</td>\n",
       "      <td>1.00</td>\n",
       "      <td>2.00</td>\n",
       "    </tr>\n",
       "    <tr>\n",
       "      <th>3</th>\n",
       "      <td>1.00</td>\n",
       "      <td>1.00</td>\n",
       "      <td>1182019</td>\n",
       "      <td>1</td>\n",
       "      <td>18</td>\n",
       "      <td>2019</td>\n",
       "      <td>1200.00</td>\n",
       "      <td>2019000004</td>\n",
       "      <td>2019000004.00</td>\n",
       "      <td>1.00</td>\n",
       "      <td>...</td>\n",
       "      <td>0.00</td>\n",
       "      <td>NaN</td>\n",
       "      <td>NaN</td>\n",
       "      <td>9.00</td>\n",
       "      <td>9.00</td>\n",
       "      <td>1.00</td>\n",
       "      <td>1.00</td>\n",
       "      <td>1.00</td>\n",
       "      <td>9.00</td>\n",
       "      <td>9.00</td>\n",
       "    </tr>\n",
       "    <tr>\n",
       "      <th>4</th>\n",
       "      <td>1.00</td>\n",
       "      <td>1.00</td>\n",
       "      <td>1042019</td>\n",
       "      <td>1</td>\n",
       "      <td>4</td>\n",
       "      <td>2019</td>\n",
       "      <td>1100.00</td>\n",
       "      <td>2019000005</td>\n",
       "      <td>2019000005.00</td>\n",
       "      <td>1.00</td>\n",
       "      <td>...</td>\n",
       "      <td>1.00</td>\n",
       "      <td>143.00</td>\n",
       "      <td>178.00</td>\n",
       "      <td>1.00</td>\n",
       "      <td>1.00</td>\n",
       "      <td>1.00</td>\n",
       "      <td>1.00</td>\n",
       "      <td>0.00</td>\n",
       "      <td>2.00</td>\n",
       "      <td>1.00</td>\n",
       "    </tr>\n",
       "  </tbody>\n",
       "</table>\n",
       "<p>5 rows × 248 columns</p>\n",
       "</div>"
      ],
      "text/plain": [
       "   _STATE  FMONTH    IDATE IMONTH IDAY IYEAR  DISPCODE       SEQNO  \\\n",
       "0    1.00    1.00  1182019      1   18  2019   1100.00  2019000001   \n",
       "1    1.00    1.00  1132019      1   13  2019   1100.00  2019000002   \n",
       "2    1.00    1.00  1182019      1   18  2019   1100.00  2019000003   \n",
       "3    1.00    1.00  1182019      1   18  2019   1200.00  2019000004   \n",
       "4    1.00    1.00  1042019      1    4  2019   1100.00  2019000005   \n",
       "\n",
       "           _PSU  CTELENM1  ...  _VEGRES1  _FRUTSU1  _VEGESU1  _FRTLT1A  \\\n",
       "0 2019000001.00      1.00  ...      1.00    200.00    114.00      1.00   \n",
       "1 2019000002.00      1.00  ...      1.00    100.00    121.00      1.00   \n",
       "2 2019000003.00      1.00  ...      1.00    114.00    164.00      1.00   \n",
       "3 2019000004.00      1.00  ...      0.00       NaN       NaN      9.00   \n",
       "4 2019000005.00      1.00  ...      1.00    143.00    178.00      1.00   \n",
       "\n",
       "   _VEGLT1A  _FRT16A  _VEG23A  _FRUITE1  _FLSHOT7  _PNEUMO3  \n",
       "0      1.00     1.00     1.00      0.00      2.00      1.00  \n",
       "1      1.00     1.00     1.00      0.00      1.00      1.00  \n",
       "2      1.00     1.00     1.00      0.00      1.00      2.00  \n",
       "3      9.00     1.00     1.00      1.00      9.00      9.00  \n",
       "4      1.00     1.00     1.00      0.00      2.00      1.00  \n",
       "\n",
       "[5 rows x 248 columns]"
      ]
     },
     "execution_count": 10,
     "metadata": {},
     "output_type": "execute_result"
    }
   ],
   "source": [
    "# Now the two df has the same column names, we can concat the two df.\n",
    "df = pd.concat([df19, df21], ignore_index=True, sort=False)\n",
    "df.head()"
   ]
  },
  {
   "attachments": {},
   "cell_type": "markdown",
   "id": "0d703504",
   "metadata": {},
   "source": [
    "### 1. Identifying the response variables and the feature space\n",
    "\n",
    "Prepare the compound response variables:\n",
    "* Depression: df['ADDEPEV3']\n",
    "* Ever Told Asthma: df['_CASTHM1']\n",
    "* Copd: df['COPD']\n",
    "* Cancer: df['CHCSCNCR'], df['CHCOCNCR']\n",
    "* Ever Told Heart Condition: df['CVDCRHD4'], df['CVDINFR4'], df['CVDSTRK3']\n",
    "* Diabetes: df['DIABETE4']<br>\n",
    "\n",
    "Then handle missing values and prepare the dataframe for analysis.<br>"
   ]
  },
  {
   "attachments": {},
   "cell_type": "markdown",
   "id": "2fd2bfaa",
   "metadata": {},
   "source": [
    "##### 1.1 'Inclusive or' for cancers and cardiovascular diseases"
   ]
  },
  {
   "cell_type": "code",
   "execution_count": 11,
   "id": "5719c9b8",
   "metadata": {},
   "outputs": [
    {
     "name": "stdout",
     "output_type": "stream",
     "text": [
      "[ 2.  1. nan  7.  9.]\n",
      "[ 2.  1.  9.  7. nan]\n"
     ]
    }
   ],
   "source": [
    "# For cancer, we need to combine df['CHCSCNCR'] and f['CHCOCNCR']\n",
    "print(df['CHCSCNCR'].unique())\n",
    "print(df['CHCOCNCR'].unique())"
   ]
  },
  {
   "attachments": {},
   "cell_type": "markdown",
   "id": "41c5c81e",
   "metadata": {},
   "source": [
    "Per the Codebook Report, only 1 stands for diagnosed. If either column shows 1, then the combined column is 1. Otherwise, we use 0 to stand for not diagnosed."
   ]
  },
  {
   "cell_type": "code",
   "execution_count": 12,
   "id": "9c2e292f",
   "metadata": {},
   "outputs": [
    {
     "data": {
      "text/plain": [
       "0    708342\n",
       "1    148619\n",
       "Name: CNCR, dtype: int64"
      ]
     },
     "execution_count": 12,
     "metadata": {},
     "output_type": "execute_result"
    }
   ],
   "source": [
    "# Combine two different types of cancer into one feature\n",
    "has_cncr = (df['CHCSCNCR'] == 1) | (df['CHCOCNCR'] == 1)\n",
    "df['CNCR'] = has_cncr.astype(int)\n",
    "df['CNCR'].value_counts()"
   ]
  },
  {
   "cell_type": "code",
   "execution_count": 13,
   "id": "8cd80391",
   "metadata": {},
   "outputs": [
    {
     "data": {
      "text/plain": [
       "0    761194\n",
       "1     95767\n",
       "Name: CVD, dtype: int64"
      ]
     },
     "execution_count": 13,
     "metadata": {},
     "output_type": "execute_result"
    }
   ],
   "source": [
    "# Combine three different cardio-vascular condition into one feature\n",
    "has_cvd = (df[\"CVDCRHD4\"] == 1) | (df[\"CVDINFR4\"] == 1) | (df[\"CVDSTRK3\"] == 1) \n",
    "df[\"CVD\"] = has_cvd.astype(int)\n",
    "df[\"CVD\"].value_counts() "
   ]
  },
  {
   "cell_type": "code",
   "execution_count": 14,
   "id": "12ff7424",
   "metadata": {},
   "outputs": [
    {
     "name": "stdout",
     "output_type": "stream",
     "text": [
      "0   0.83\n",
      "1   0.17\n",
      "Name: CNCR, dtype: float64\n",
      "0   0.89\n",
      "1   0.11\n",
      "Name: CVD, dtype: float64\n"
     ]
    }
   ],
   "source": [
    "# print the percentage of unique values for cancer and heart condition\n",
    "print(df['CNCR'].value_counts() / len(df['CNCR']))\n",
    "print(df['CVD'].value_counts() / len(df['CVD']))"
   ]
  },
  {
   "attachments": {},
   "cell_type": "markdown",
   "id": "31078f1a",
   "metadata": {},
   "source": [
    "Before creating the two additional categorical columns, we need to clean the NaN values in the chronic condition columns.\n",
    "\n",
    "##### 1.2 Handling missing response values"
   ]
  },
  {
   "cell_type": "code",
   "execution_count": 15,
   "id": "27724eee",
   "metadata": {},
   "outputs": [
    {
     "name": "stdout",
     "output_type": "stream",
     "text": [
      "(856961, 11)\n"
     ]
    }
   ],
   "source": [
    "chronic_df = df[['ADDEPEV3', '_CASTHM1', 'COPD', 'CHCSCNCR', 'CHCOCNCR', 'CNCR', 'CVDCRHD4', 'CVDINFR4', 'CVDSTRK3', 'CVD', 'DIABETE4']]\n",
    "print(chronic_df.shape)"
   ]
  },
  {
   "cell_type": "code",
   "execution_count": 16,
   "id": "84b3219f",
   "metadata": {},
   "outputs": [
    {
     "data": {
      "text/html": [
       "<div>\n",
       "<style scoped>\n",
       "    .dataframe tbody tr th:only-of-type {\n",
       "        vertical-align: middle;\n",
       "    }\n",
       "\n",
       "    .dataframe tbody tr th {\n",
       "        vertical-align: top;\n",
       "    }\n",
       "\n",
       "    .dataframe thead th {\n",
       "        text-align: right;\n",
       "    }\n",
       "</style>\n",
       "<table border=\"1\" class=\"dataframe\">\n",
       "  <thead>\n",
       "    <tr style=\"text-align: right;\">\n",
       "      <th></th>\n",
       "      <th>index</th>\n",
       "      <th>0</th>\n",
       "    </tr>\n",
       "  </thead>\n",
       "  <tbody>\n",
       "    <tr>\n",
       "      <th>0</th>\n",
       "      <td>ADDEPEV3</td>\n",
       "      <td>13</td>\n",
       "    </tr>\n",
       "    <tr>\n",
       "      <th>1</th>\n",
       "      <td>_CASTHM1</td>\n",
       "      <td>0</td>\n",
       "    </tr>\n",
       "    <tr>\n",
       "      <th>2</th>\n",
       "      <td>COPD</td>\n",
       "      <td>11</td>\n",
       "    </tr>\n",
       "    <tr>\n",
       "      <th>3</th>\n",
       "      <td>CHCSCNCR</td>\n",
       "      <td>10</td>\n",
       "    </tr>\n",
       "    <tr>\n",
       "      <th>4</th>\n",
       "      <td>CHCOCNCR</td>\n",
       "      <td>12</td>\n",
       "    </tr>\n",
       "    <tr>\n",
       "      <th>5</th>\n",
       "      <td>CNCR</td>\n",
       "      <td>0</td>\n",
       "    </tr>\n",
       "    <tr>\n",
       "      <th>6</th>\n",
       "      <td>CVDCRHD4</td>\n",
       "      <td>10</td>\n",
       "    </tr>\n",
       "    <tr>\n",
       "      <th>7</th>\n",
       "      <td>CVDINFR4</td>\n",
       "      <td>12</td>\n",
       "    </tr>\n",
       "    <tr>\n",
       "      <th>8</th>\n",
       "      <td>CVDSTRK3</td>\n",
       "      <td>13</td>\n",
       "    </tr>\n",
       "    <tr>\n",
       "      <th>9</th>\n",
       "      <td>CVD</td>\n",
       "      <td>0</td>\n",
       "    </tr>\n",
       "    <tr>\n",
       "      <th>10</th>\n",
       "      <td>DIABETE4</td>\n",
       "      <td>12</td>\n",
       "    </tr>\n",
       "  </tbody>\n",
       "</table>\n",
       "</div>"
      ],
      "text/plain": [
       "       index   0\n",
       "0   ADDEPEV3  13\n",
       "1   _CASTHM1   0\n",
       "2       COPD  11\n",
       "3   CHCSCNCR  10\n",
       "4   CHCOCNCR  12\n",
       "5       CNCR   0\n",
       "6   CVDCRHD4  10\n",
       "7   CVDINFR4  12\n",
       "8   CVDSTRK3  13\n",
       "9        CVD   0\n",
       "10  DIABETE4  12"
      ]
     },
     "execution_count": 16,
     "metadata": {},
     "output_type": "execute_result"
    }
   ],
   "source": [
    "# Missing value analysis in the chronic_df\n",
    "# list all the columns and number of missing values in that column\n",
    "missing_cols = chronic_df.isna().sum().reset_index()\n",
    "missing_cols"
   ]
  },
  {
   "attachments": {},
   "cell_type": "markdown",
   "id": "4f5765e9",
   "metadata": {},
   "source": [
    "Seeing that there are only few missing values in these columns (<0.1%), we simply drop the associated rows."
   ]
  },
  {
   "cell_type": "code",
   "execution_count": 17,
   "id": "bf7e4be4",
   "metadata": {},
   "outputs": [],
   "source": [
    "df.dropna(subset=['ADDEPEV3', '_CASTHM1', 'COPD', 'CHCSCNCR', 'CHCOCNCR', 'CVDCRHD4', 'CVDINFR4', 'CVDSTRK3', 'DIABETE4'], inplace=True)"
   ]
  },
  {
   "attachments": {},
   "cell_type": "markdown",
   "id": "53378ce8",
   "metadata": {},
   "source": [
    "##### 1.3 Handling missing feature values"
   ]
  },
  {
   "cell_type": "code",
   "execution_count": 18,
   "id": "f41d8aea",
   "metadata": {},
   "outputs": [],
   "source": [
    "chronic_conditions = ['ADDEPEV3', '_CASTHM1', 'COPD', 'CNCR', 'CVD', \n",
    "    'DIABETE4']"
   ]
  },
  {
   "cell_type": "code",
   "execution_count": 19,
   "id": "7904b799",
   "metadata": {},
   "outputs": [
    {
     "data": {
      "text/html": [
       "<div>\n",
       "<style scoped>\n",
       "    .dataframe tbody tr th:only-of-type {\n",
       "        vertical-align: middle;\n",
       "    }\n",
       "\n",
       "    .dataframe tbody tr th {\n",
       "        vertical-align: top;\n",
       "    }\n",
       "\n",
       "    .dataframe thead th {\n",
       "        text-align: right;\n",
       "    }\n",
       "</style>\n",
       "<table border=\"1\" class=\"dataframe\">\n",
       "  <thead>\n",
       "    <tr style=\"text-align: right;\">\n",
       "      <th></th>\n",
       "      <th>index</th>\n",
       "      <th>0</th>\n",
       "    </tr>\n",
       "  </thead>\n",
       "  <tbody>\n",
       "    <tr>\n",
       "      <th>0</th>\n",
       "      <td>CHCKDNY2</td>\n",
       "      <td>2</td>\n",
       "    </tr>\n",
       "    <tr>\n",
       "      <th>1</th>\n",
       "      <td>_RACE</td>\n",
       "      <td>3</td>\n",
       "    </tr>\n",
       "    <tr>\n",
       "      <th>2</th>\n",
       "      <td>_RACEG21</td>\n",
       "      <td>3</td>\n",
       "    </tr>\n",
       "    <tr>\n",
       "      <th>3</th>\n",
       "      <td>_RACEGR3</td>\n",
       "      <td>3</td>\n",
       "    </tr>\n",
       "    <tr>\n",
       "      <th>4</th>\n",
       "      <td>CHECKUP1</td>\n",
       "      <td>6</td>\n",
       "    </tr>\n",
       "    <tr>\n",
       "      <th>...</th>\n",
       "      <td>...</td>\n",
       "      <td>...</td>\n",
       "    </tr>\n",
       "    <tr>\n",
       "      <th>183</th>\n",
       "      <td>COLGSEX</td>\n",
       "      <td>856873</td>\n",
       "    </tr>\n",
       "    <tr>\n",
       "      <th>184</th>\n",
       "      <td>COLGHOUS</td>\n",
       "      <td>856873</td>\n",
       "    </tr>\n",
       "    <tr>\n",
       "      <th>185</th>\n",
       "      <td>WORKCFS</td>\n",
       "      <td>856941</td>\n",
       "    </tr>\n",
       "    <tr>\n",
       "      <th>186</th>\n",
       "      <td>HAVECFS</td>\n",
       "      <td>856941</td>\n",
       "    </tr>\n",
       "    <tr>\n",
       "      <th>187</th>\n",
       "      <td>TOLDCFS</td>\n",
       "      <td>856941</td>\n",
       "    </tr>\n",
       "  </tbody>\n",
       "</table>\n",
       "<p>188 rows × 2 columns</p>\n",
       "</div>"
      ],
      "text/plain": [
       "        index       0\n",
       "0    CHCKDNY2       2\n",
       "1       _RACE       3\n",
       "2    _RACEG21       3\n",
       "3    _RACEGR3       3\n",
       "4    CHECKUP1       6\n",
       "..        ...     ...\n",
       "183   COLGSEX  856873\n",
       "184  COLGHOUS  856873\n",
       "185   WORKCFS  856941\n",
       "186   HAVECFS  856941\n",
       "187   TOLDCFS  856941\n",
       "\n",
       "[188 rows x 2 columns]"
      ]
     },
     "execution_count": 19,
     "metadata": {},
     "output_type": "execute_result"
    }
   ],
   "source": [
    "missing_values_cols = df.isna().sum()\n",
    "missing_values_cols = missing_values_cols[missing_values_cols!=0].sort_values()\n",
    "\n",
    "missing_values_cols.reset_index()"
   ]
  },
  {
   "cell_type": "code",
   "execution_count": 20,
   "id": "24bfb0c6",
   "metadata": {},
   "outputs": [
    {
     "data": {
      "text/plain": [
       "171388.2"
      ]
     },
     "execution_count": 20,
     "metadata": {},
     "output_type": "execute_result"
    }
   ],
   "source": [
    "threshold = 0.2 * len(df)\n",
    "threshold"
   ]
  },
  {
   "attachments": {},
   "cell_type": "markdown",
   "id": "14ba630e",
   "metadata": {},
   "source": [
    "Since we already have the condition of trimming the data frame to 20 features, We will drop features entirely if we're missing their values in more than 20% of the rows."
   ]
  },
  {
   "cell_type": "code",
   "execution_count": 21,
   "id": "d80e7f1d",
   "metadata": {},
   "outputs": [
    {
     "data": {
      "text/plain": [
       "Index(['_CHISPNC', 'SAFETIME', 'CELLFON5', 'PVTRESD3', 'CTELNUM1', 'CADULT1',\n",
       "       'CSTATE1', 'HHADULT', 'CELLSEX', 'LANDLINE',\n",
       "       ...\n",
       "       'CSRVCTL2', 'PRIRHEPC', 'TRETHEPC', 'HAVEHEPC', 'MEDSHEPB', 'COLGSEX',\n",
       "       'COLGHOUS', 'WORKCFS', 'HAVECFS', 'TOLDCFS'],\n",
       "      dtype='object', length=132)"
      ]
     },
     "execution_count": 21,
     "metadata": {},
     "output_type": "execute_result"
    }
   ],
   "source": [
    "drop_features = missing_values_cols[missing_values_cols > threshold].index\n",
    "drop_features"
   ]
  },
  {
   "cell_type": "code",
   "execution_count": 22,
   "id": "276f196f",
   "metadata": {},
   "outputs": [
    {
     "data": {
      "text/plain": [
       "132"
      ]
     },
     "execution_count": 22,
     "metadata": {},
     "output_type": "execute_result"
    }
   ],
   "source": [
    "len(drop_features)"
   ]
  },
  {
   "attachments": {},
   "cell_type": "markdown",
   "id": "6c4715aa",
   "metadata": {},
   "source": [
    "Dropping 132 features still leaves us with plenty of columns to work with."
   ]
  },
  {
   "cell_type": "code",
   "execution_count": 23,
   "id": "d53e64ad",
   "metadata": {},
   "outputs": [],
   "source": [
    "# Dropping the features having more than 20% of missing values\n",
    "df = df.drop(drop_features, axis = 1)"
   ]
  },
  {
   "attachments": {},
   "cell_type": "markdown",
   "id": "cc25a036",
   "metadata": {},
   "source": [
    "For the rest of the dataframe, we will impute the missing values with each columns' mean."
   ]
  },
  {
   "cell_type": "code",
   "execution_count": 24,
   "id": "9f201e90",
   "metadata": {},
   "outputs": [
    {
     "data": {
      "text/plain": [
       "Index(['CHCKDNY2', '_RACE', '_RACEG21', '_RACEGR3', 'CHECKUP1', '_PRACE1',\n",
       "       '_MRACE1', 'MENTHLTH', 'EDUCA', 'RENTHOM1', 'GENHLTH', 'PHYSHLTH',\n",
       "       'MARITAL', 'CPDEMO1B', 'VETERAN3', 'QSTLANG', 'EMPLOY1', '_MICHD',\n",
       "       'CHILDREN', '_URBSTAT', '_METSTAT', 'INCOME2', 'WEIGHT2', 'EXERANY2',\n",
       "       'HEIGHT3', 'DEAF', 'BLIND', 'DECIDE', 'DIFFWALK', 'DIFFDRES',\n",
       "       'DIFFALON', 'SMOKE100', 'USENOW3', 'ALCDAY5', 'HTM4', 'HTIN4',\n",
       "       'FLUSHOT7', 'FRUIT2', 'PNEUVAC4', 'FRUITJU2', 'FVGREEN1', 'WTKG3',\n",
       "       'HIVTST7', 'FRENCHF1', 'POTATOE1', 'VEGETAB2', 'FTJUDA2_', 'FRUTDA2_',\n",
       "       '_BMI5', '_BMI5CAT', 'GRENDA1_', 'FRNCHDA_', 'POTADA1_', 'VEGEDA2_',\n",
       "       '_FRUTSU1', '_VEGESU1'],\n",
       "      dtype='object')"
      ]
     },
     "execution_count": 24,
     "metadata": {},
     "output_type": "execute_result"
    }
   ],
   "source": [
    "impute_features = missing_values_cols[missing_values_cols < threshold].index\n",
    "impute_features"
   ]
  },
  {
   "cell_type": "code",
   "execution_count": 25,
   "id": "6318cf34",
   "metadata": {},
   "outputs": [],
   "source": [
    "from sklearn.impute import SimpleImputer\n",
    "\n",
    "mean_imputer = SimpleImputer(missing_values = np.nan, strategy = 'mean')\n",
    "\n",
    "# Impute an empty value by replacing it with mean \n",
    "def impute_by_mean(col_name):\n",
    "    df[col_name] = mean_imputer.fit_transform(df[col_name].values.reshape(-1, 1))\n"
   ]
  },
  {
   "cell_type": "code",
   "execution_count": 26,
   "id": "80737105",
   "metadata": {},
   "outputs": [],
   "source": [
    "# Imputing missing values for features having < 20% missing values\n",
    "for col in impute_features:\n",
    "    impute_by_mean(col)"
   ]
  },
  {
   "cell_type": "code",
   "execution_count": 27,
   "id": "c8ef726e",
   "metadata": {},
   "outputs": [
    {
     "data": {
      "text/html": [
       "<div>\n",
       "<style scoped>\n",
       "    .dataframe tbody tr th:only-of-type {\n",
       "        vertical-align: middle;\n",
       "    }\n",
       "\n",
       "    .dataframe tbody tr th {\n",
       "        vertical-align: top;\n",
       "    }\n",
       "\n",
       "    .dataframe thead th {\n",
       "        text-align: right;\n",
       "    }\n",
       "</style>\n",
       "<table border=\"1\" class=\"dataframe\">\n",
       "  <thead>\n",
       "    <tr style=\"text-align: right;\">\n",
       "      <th></th>\n",
       "      <th>index</th>\n",
       "      <th>0</th>\n",
       "    </tr>\n",
       "  </thead>\n",
       "  <tbody>\n",
       "  </tbody>\n",
       "</table>\n",
       "</div>"
      ],
      "text/plain": [
       "Empty DataFrame\n",
       "Columns: [index, 0]\n",
       "Index: []"
      ]
     },
     "execution_count": 27,
     "metadata": {},
     "output_type": "execute_result"
    }
   ],
   "source": [
    "# Confirm no data is still missing\n",
    "still_missing_values_cols = df.isna().sum()\n",
    "still_missing_values_cols = still_missing_values_cols[still_missing_values_cols!=0].sort_values()\n",
    "still_missing_values_cols.reset_index()"
   ]
  },
  {
   "attachments": {},
   "cell_type": "markdown",
   "id": "af65a7ee",
   "metadata": {},
   "source": [
    "##### 1.4 Creating our response columns for comorbidity"
   ]
  },
  {
   "attachments": {},
   "cell_type": "markdown",
   "id": "ee4ad363",
   "metadata": {},
   "source": [
    "Create the binary categorical response column."
   ]
  },
  {
   "cell_type": "code",
   "execution_count": 28,
   "id": "5637969f",
   "metadata": {},
   "outputs": [
    {
     "data": {
      "text/plain": [
       "array([1, 0])"
      ]
     },
     "execution_count": 28,
     "metadata": {},
     "output_type": "execute_result"
    }
   ],
   "source": [
    "### 1.2 Create two additional categorical columns - CMB_binary, CMN_multi\n",
    "has_chronic = (df['CNCR'] == 1)  | (df['ADDEPEV3'] == 1) | (df['_CASTHM1'] == 1) | (df['COPD'] == 1) | (df['CVD'] == 1) | (df['DIABETE4'] == 1)\n",
    "df['CMB_binary'] = has_chronic.astype(int)\n",
    "df['CMB_binary'].unique()"
   ]
  },
  {
   "cell_type": "code",
   "execution_count": 29,
   "id": "8d9f211f",
   "metadata": {},
   "outputs": [
    {
     "data": {
      "text/plain": [
       "1    826641\n",
       "0     30300\n",
       "Name: CMB_binary, dtype: int64"
      ]
     },
     "execution_count": 29,
     "metadata": {},
     "output_type": "execute_result"
    }
   ],
   "source": [
    "df[\"CMB_binary\"].value_counts()"
   ]
  },
  {
   "attachments": {},
   "cell_type": "markdown",
   "id": "5fe7dbcc",
   "metadata": {},
   "source": [
    "Create the multiclass response column."
   ]
  },
  {
   "cell_type": "code",
   "execution_count": 30,
   "id": "e24f9644",
   "metadata": {},
   "outputs": [],
   "source": [
    "# Creating a subset of chronic conditions\n",
    "cf = df[chronic_conditions]"
   ]
  },
  {
   "cell_type": "code",
   "execution_count": 31,
   "id": "c870213e",
   "metadata": {},
   "outputs": [],
   "source": [
    "# Replace values of 1 and 2 with 1 and rest with 0\n",
    "cf[\"DIABETE4\"] = cf[\"DIABETE4\"].apply(lambda x: 1 if (x == 1) | (x == 2) else 0)\n",
    "\n",
    "# Replace values of 1 with 1 and rest with 0 in other features\n",
    "for col in chronic_conditions:\n",
    "    cf[col] = cf[col].apply(lambda x: 1 if x == 1 else 0)"
   ]
  },
  {
   "cell_type": "code",
   "execution_count": 32,
   "id": "322d4f39",
   "metadata": {},
   "outputs": [],
   "source": [
    "# Determine the number of chronic conditions an individual has\n",
    "num_conditions = cf.sum(axis=1)\n",
    "\n",
    "# Creating a new response column with the num of conditions\n",
    "df['CMB_multiclass'] = pd.cut(num_conditions, bins=[0, 1, 2, 3, float('inf')], labels=[0, 1, 2, '3+'])\n"
   ]
  },
  {
   "cell_type": "code",
   "execution_count": 33,
   "id": "e0e1bc8f",
   "metadata": {},
   "outputs": [
    {
     "data": {
      "text/plain": [
       "0     450760\n",
       "1     250601\n",
       "2      91764\n",
       "3+     33916\n",
       "Name: CMB_multiclass, dtype: int64"
      ]
     },
     "execution_count": 33,
     "metadata": {},
     "output_type": "execute_result"
    }
   ],
   "source": [
    "df[\"CMB_multiclass\"].value_counts()"
   ]
  },
  {
   "cell_type": "code",
   "execution_count": 34,
   "id": "54222aa5",
   "metadata": {},
   "outputs": [],
   "source": [
    "response_cols = [\"CMB_binary\", \"CMB_multiclass\"]"
   ]
  },
  {
   "attachments": {},
   "cell_type": "markdown",
   "id": "4a8ec3dc",
   "metadata": {},
   "source": [
    "We now have response columns created and in a workable list. And, we can now avoid using the columns these responses were derived from in our feature space."
   ]
  },
  {
   "attachments": {},
   "cell_type": "markdown",
   "id": "64c3bcd0",
   "metadata": {},
   "source": [
    "#### 1.5 Identifying our feature space"
   ]
  },
  {
   "attachments": {},
   "cell_type": "markdown",
   "id": "91f9918a",
   "metadata": {},
   "source": [
    "* 'INCOME2' = Annual household income from all sources\n",
    "* '_AGE_G' = Six-level imputed age category\n",
    "* 'MARITAL' = Marital status\n",
    "* '_SEX'= Calculated sex variable\n",
    "* '_EDUCAG' = Level of education completed\n",
    "* '_RACE' = Race/ethnicity categories\n",
    "* '_RFHYPE5' = Adults who have been told they have high blood pressure by a doctor, nurse, or other health professional\n",
    "* '_HCVU651' = Respondents aged 18-64 who have any form of health care coverage\n",
    "* '_MENT14D' = 3 level not good mental health status: 0 days, 1-13 days, 14-30 days\n",
    "* '_PHYS14D' = 3 level not good physical health status: 0 days, 1-13 days, 14-30 days\n",
    "* '_URBSTAT' = Urban/Rural status\n",
    "* 'VETERAN3' = Have you ever served on active duty in the United States Armed Forces, either in the regular military or in a National Guard or military reserve unit?\n",
    "* 'RENTHOM1' = Do you own or rent your home?\n",
    "* 'TOLDHI2' = Have you ever been told by a doctor, nurse or other health professional that your blood cholesterol is high?\n",
    "* 'CHECKUP1' = About how long has it been since you last visited a doctor for a routine checkup?  [A routine checkup is a general physical exam, not an exam for a specific injury, illness, or condition.]\n",
    "* 'HAVARTH4' = (Ever told) (you had) some form of arthritis, rheumatoid arthritis, gout, lupus, or fibromyalgia?  (Arthritis diagnoses include: rheumatism, polymyalgia rheumatica; osteoarthritis (not osteporosis); tendonitis, bursitis, bunion, tennis elbow; carpal tunnel syndrome, tarsal tunnel syndrome; joint infection, etc.)\n",
    "* 'CHCKDNY2' = Not including kidney stones, bladder infection or incontinence, were you ever told you had kidney disease?\n",
    "* 'EXERANY2' = During the past month, other than your regular job, did you participate in any physical activities or exercises such as running, calisthenics, golf, gardening, or walking for exercise?\n",
    "* 'STRENGTH' = During the past month, how many times per week or per month did you do physical activities or exercises to STRENGTHEN your muscles?   [Do NOT count aerobic activities like walking, running, or bicycling. Count activities using your own body weight like yoga, sit-ups or push-ups and those using weight machines, free weights, or elastic bands.]\n",
    "* 'FRUIT2' = Not including juices, how often did you eat fruit?\n",
    "* 'FVGREEN1' = How often did you eat a green leafy or lettuce salad, with or without other vegetables?\n",
    "* 'FLUSHOT7' = During the past 12 months, have you had either flu vaccine that was sprayed in your nose or flu shot injected into your arm?<br>\n",
    "\n",
    "We only need 20, but are starting with 22, so that we have a 10% buffer to delete problematic columns."
   ]
  },
  {
   "cell_type": "code",
   "execution_count": 35,
   "id": "955a9b69",
   "metadata": {},
   "outputs": [],
   "source": [
    "feature_cols = ['INCOME2', '_AGE_G', 'MARITAL', '_SEX', '_EDUCAG', '_RACE', '_RFHYPE5', '_HCVU651', '_MENT14D', '_PHYS14D', '_URBSTAT', 'VETERAN3', 'RENTHOM1', 'TOLDHI2', 'CHECKUP1', 'HAVARTH4', 'CHCKDNY2', 'EXERANY2', 'STRENGTH', 'FRUIT2', 'FVGREEN1', 'FLUSHOT7']"
   ]
  },
  {
   "attachments": {},
   "cell_type": "markdown",
   "id": "855b18bc",
   "metadata": {},
   "source": [
    "## Analysis Part 1:\n",
    "\n",
    "### 2. Exploratory Data Analysis"
   ]
  }
 ],
 "metadata": {
  "kernelspec": {
   "display_name": "Python 3.10.9 ('ML')",
   "language": "python",
   "name": "python3"
  },
  "language_info": {
   "codemirror_mode": {
    "name": "ipython",
    "version": 3
   },
   "file_extension": ".py",
   "mimetype": "text/x-python",
   "name": "python",
   "nbconvert_exporter": "python",
   "pygments_lexer": "ipython3",
   "version": "3.10.9"
  },
  "vscode": {
   "interpreter": {
    "hash": "f281129a75cd910c7aaa14d489ea111e9097828042692ebdd0807a5712eac42e"
   }
  }
 },
 "nbformat": 4,
 "nbformat_minor": 5
}
