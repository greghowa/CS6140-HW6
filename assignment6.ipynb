{
 "cells": [
  {
   "attachments": {},
   "cell_type": "markdown",
   "id": "57061f68",
   "metadata": {},
   "source": [
    " # Assignment 6\n",
    "    Group member: Akhila Ravi, Ruijia Xiong, Gregory Howard"
   ]
  },
  {
   "cell_type": "code",
   "execution_count": 1,
   "id": "4c1b37fe",
   "metadata": {},
   "outputs": [],
   "source": [
    "import pandas as pd\n",
    "import numpy as np"
   ]
  },
  {
   "attachments": {},
   "cell_type": "markdown",
   "id": "839c95ff",
   "metadata": {},
   "source": [
    "## 1. EDA"
   ]
  },
  {
   "cell_type": "code",
   "execution_count": 2,
   "id": "86cae155",
   "metadata": {},
   "outputs": [
    {
     "name": "stdout",
     "output_type": "stream",
     "text": [
      "(418268, 250)\n",
      "(438693, 250)\n"
     ]
    }
   ],
   "source": [
    "df19 = pd.read_csv('brfss19.csv')\n",
    "df21 = pd.read_csv('brfss21.csv')\n",
    "print(df19.shape)\n",
    "print(df21.shape)"
   ]
  },
  {
   "cell_type": "code",
   "execution_count": 5,
   "id": "fbf8b2d2",
   "metadata": {},
   "outputs": [
    {
     "data": {
      "text/plain": [
       "{'CHCCOPD2', 'CHCCOPD3'}"
      ]
     },
     "execution_count": 5,
     "metadata": {},
     "output_type": "execute_result"
    }
   ],
   "source": [
    "# Compare the different column names in the two data frame\n",
    "(set(df19.columns) | set(df21.columns)) - (set(df19.columns) & set(df21.columns))"
   ]
  },
  {
   "attachments": {},
   "cell_type": "markdown",
   "id": "d8653be5",
   "metadata": {},
   "source": [
    "    • The different of the column names existed in the two data frame are 'CHCCOPD2', 'CHCCOPD3'\n",
    "\n",
    "    Since the two names stand for the same thing, we just need to replace the column name df['CHCCOPD3'] in df21 to df['CHCCOPD2]"
   ]
  },
  {
   "cell_type": "code",
   "execution_count": 6,
   "id": "cab366b9",
   "metadata": {},
   "outputs": [],
   "source": [
    "df21.rename(columns = {'CHCCOPD3':'CHCCOPD2'}, inplace = True)"
   ]
  },
  {
   "cell_type": "code",
   "execution_count": 7,
   "id": "29efb83b",
   "metadata": {},
   "outputs": [
    {
     "data": {
      "text/html": [
       "<div>\n",
       "<style scoped>\n",
       "    .dataframe tbody tr th:only-of-type {\n",
       "        vertical-align: middle;\n",
       "    }\n",
       "\n",
       "    .dataframe tbody tr th {\n",
       "        vertical-align: top;\n",
       "    }\n",
       "\n",
       "    .dataframe thead th {\n",
       "        text-align: right;\n",
       "    }\n",
       "</style>\n",
       "<table border=\"1\" class=\"dataframe\">\n",
       "  <thead>\n",
       "    <tr style=\"text-align: right;\">\n",
       "      <th></th>\n",
       "      <th>Unnamed: 0</th>\n",
       "      <th>_STATE</th>\n",
       "      <th>FMONTH</th>\n",
       "      <th>IDATE</th>\n",
       "      <th>IMONTH</th>\n",
       "      <th>IDAY</th>\n",
       "      <th>IYEAR</th>\n",
       "      <th>DISPCODE</th>\n",
       "      <th>SEQNO</th>\n",
       "      <th>_PSU</th>\n",
       "      <th>...</th>\n",
       "      <th>_VEGESU1</th>\n",
       "      <th>_FRTLT1A</th>\n",
       "      <th>_VEGLT1A</th>\n",
       "      <th>_FRT16A</th>\n",
       "      <th>_VEG23A</th>\n",
       "      <th>_FRUITE1</th>\n",
       "      <th>_VEGETE1</th>\n",
       "      <th>_FLSHOT7</th>\n",
       "      <th>_PNEUMO3</th>\n",
       "      <th>_AIDTST4</th>\n",
       "    </tr>\n",
       "  </thead>\n",
       "  <tbody>\n",
       "    <tr>\n",
       "      <th>0</th>\n",
       "      <td>0</td>\n",
       "      <td>1.0</td>\n",
       "      <td>1.0</td>\n",
       "      <td>1182019</td>\n",
       "      <td>1</td>\n",
       "      <td>18</td>\n",
       "      <td>2019</td>\n",
       "      <td>1100.0</td>\n",
       "      <td>2019000001</td>\n",
       "      <td>2.019000e+09</td>\n",
       "      <td>...</td>\n",
       "      <td>114.0</td>\n",
       "      <td>1.0</td>\n",
       "      <td>1.0</td>\n",
       "      <td>1.0</td>\n",
       "      <td>1.0</td>\n",
       "      <td>0.0</td>\n",
       "      <td>0.0</td>\n",
       "      <td>2.0</td>\n",
       "      <td>1.0</td>\n",
       "      <td>2.0</td>\n",
       "    </tr>\n",
       "    <tr>\n",
       "      <th>1</th>\n",
       "      <td>1</td>\n",
       "      <td>1.0</td>\n",
       "      <td>1.0</td>\n",
       "      <td>1132019</td>\n",
       "      <td>1</td>\n",
       "      <td>13</td>\n",
       "      <td>2019</td>\n",
       "      <td>1100.0</td>\n",
       "      <td>2019000002</td>\n",
       "      <td>2.019000e+09</td>\n",
       "      <td>...</td>\n",
       "      <td>121.0</td>\n",
       "      <td>1.0</td>\n",
       "      <td>1.0</td>\n",
       "      <td>1.0</td>\n",
       "      <td>1.0</td>\n",
       "      <td>0.0</td>\n",
       "      <td>0.0</td>\n",
       "      <td>1.0</td>\n",
       "      <td>1.0</td>\n",
       "      <td>2.0</td>\n",
       "    </tr>\n",
       "    <tr>\n",
       "      <th>2</th>\n",
       "      <td>2</td>\n",
       "      <td>1.0</td>\n",
       "      <td>1.0</td>\n",
       "      <td>1182019</td>\n",
       "      <td>1</td>\n",
       "      <td>18</td>\n",
       "      <td>2019</td>\n",
       "      <td>1100.0</td>\n",
       "      <td>2019000003</td>\n",
       "      <td>2.019000e+09</td>\n",
       "      <td>...</td>\n",
       "      <td>164.0</td>\n",
       "      <td>1.0</td>\n",
       "      <td>1.0</td>\n",
       "      <td>1.0</td>\n",
       "      <td>1.0</td>\n",
       "      <td>0.0</td>\n",
       "      <td>0.0</td>\n",
       "      <td>1.0</td>\n",
       "      <td>2.0</td>\n",
       "      <td>2.0</td>\n",
       "    </tr>\n",
       "    <tr>\n",
       "      <th>3</th>\n",
       "      <td>3</td>\n",
       "      <td>1.0</td>\n",
       "      <td>1.0</td>\n",
       "      <td>1182019</td>\n",
       "      <td>1</td>\n",
       "      <td>18</td>\n",
       "      <td>2019</td>\n",
       "      <td>1200.0</td>\n",
       "      <td>2019000004</td>\n",
       "      <td>2.019000e+09</td>\n",
       "      <td>...</td>\n",
       "      <td>NaN</td>\n",
       "      <td>9.0</td>\n",
       "      <td>9.0</td>\n",
       "      <td>1.0</td>\n",
       "      <td>1.0</td>\n",
       "      <td>1.0</td>\n",
       "      <td>1.0</td>\n",
       "      <td>9.0</td>\n",
       "      <td>9.0</td>\n",
       "      <td>NaN</td>\n",
       "    </tr>\n",
       "    <tr>\n",
       "      <th>4</th>\n",
       "      <td>4</td>\n",
       "      <td>1.0</td>\n",
       "      <td>1.0</td>\n",
       "      <td>1042019</td>\n",
       "      <td>1</td>\n",
       "      <td>4</td>\n",
       "      <td>2019</td>\n",
       "      <td>1100.0</td>\n",
       "      <td>2019000005</td>\n",
       "      <td>2.019000e+09</td>\n",
       "      <td>...</td>\n",
       "      <td>178.0</td>\n",
       "      <td>1.0</td>\n",
       "      <td>1.0</td>\n",
       "      <td>1.0</td>\n",
       "      <td>1.0</td>\n",
       "      <td>0.0</td>\n",
       "      <td>0.0</td>\n",
       "      <td>2.0</td>\n",
       "      <td>1.0</td>\n",
       "      <td>2.0</td>\n",
       "    </tr>\n",
       "  </tbody>\n",
       "</table>\n",
       "<p>5 rows × 250 columns</p>\n",
       "</div>"
      ],
      "text/plain": [
       "   Unnamed: 0  _STATE  FMONTH    IDATE IMONTH IDAY IYEAR  DISPCODE  \\\n",
       "0           0     1.0     1.0  1182019      1   18  2019    1100.0   \n",
       "1           1     1.0     1.0  1132019      1   13  2019    1100.0   \n",
       "2           2     1.0     1.0  1182019      1   18  2019    1100.0   \n",
       "3           3     1.0     1.0  1182019      1   18  2019    1200.0   \n",
       "4           4     1.0     1.0  1042019      1    4  2019    1100.0   \n",
       "\n",
       "        SEQNO          _PSU  ...  _VEGESU1  _FRTLT1A  _VEGLT1A  _FRT16A  \\\n",
       "0  2019000001  2.019000e+09  ...     114.0       1.0       1.0      1.0   \n",
       "1  2019000002  2.019000e+09  ...     121.0       1.0       1.0      1.0   \n",
       "2  2019000003  2.019000e+09  ...     164.0       1.0       1.0      1.0   \n",
       "3  2019000004  2.019000e+09  ...       NaN       9.0       9.0      1.0   \n",
       "4  2019000005  2.019000e+09  ...     178.0       1.0       1.0      1.0   \n",
       "\n",
       "   _VEG23A  _FRUITE1  _VEGETE1  _FLSHOT7  _PNEUMO3  _AIDTST4  \n",
       "0      1.0       0.0       0.0       2.0       1.0       2.0  \n",
       "1      1.0       0.0       0.0       1.0       1.0       2.0  \n",
       "2      1.0       0.0       0.0       1.0       2.0       2.0  \n",
       "3      1.0       1.0       1.0       9.0       9.0       NaN  \n",
       "4      1.0       0.0       0.0       2.0       1.0       2.0  \n",
       "\n",
       "[5 rows x 250 columns]"
      ]
     },
     "execution_count": 7,
     "metadata": {},
     "output_type": "execute_result"
    }
   ],
   "source": [
    "# Now the two df has the same column names, we can concat the two df.\n",
    "df = pd.concat([df19, df21], ignore_index=True, sort=False)\n",
    "df.head()"
   ]
  },
  {
   "attachments": {},
   "cell_type": "markdown",
   "id": "0d703504",
   "metadata": {},
   "source": [
    "### 1.1 Data processing with the chronic related columns\n",
    "    - Depression: df['ADDEPEV3']\n",
    "    - Ever Told Asthma: df['_CASTHM1']\n",
    "    - Copd: df['CHCCOPD2']\n",
    "    - Cancer: df['CHCSCNCR'], df['CHCOCNCR']\n",
    "    - Ever Told Heart Condition: df['CVDCRHD4'], df['CVDINFR4'], df['CVDSTRK3']\n",
    "    - Diabetes: df['DIABETE4']"
   ]
  },
  {
   "cell_type": "code",
   "execution_count": 12,
   "id": "5719c9b8",
   "metadata": {},
   "outputs": [
    {
     "name": "stdout",
     "output_type": "stream",
     "text": [
      "[ 2.  1. nan  7.  9.]\n",
      "[ 2.  1.  9.  7. nan]\n"
     ]
    }
   ],
   "source": [
    "# For cancer, we need to combine df['CHCSCNCR'] and f['CHCOCNCR']\n",
    "print(df['CHCSCNCR'].unique())\n",
    "print(df['CHCOCNCR'].unique())"
   ]
  },
  {
   "attachments": {},
   "cell_type": "markdown",
   "id": "41c5c81e",
   "metadata": {},
   "source": [
    "    • According to the Codebook Report, only 1 stands for diagnosed. So the strategy to combine the columns would be either column is then the combined column is 1, otherwise, we use 0 to stand for not diagnosed."
   ]
  },
  {
   "cell_type": "code",
   "execution_count": 27,
   "id": "9c2e292f",
   "metadata": {},
   "outputs": [
    {
     "data": {
      "text/plain": [
       "0    708342\n",
       "1    148619\n",
       "Name: CNCR, dtype: int64"
      ]
     },
     "execution_count": 27,
     "metadata": {},
     "output_type": "execute_result"
    }
   ],
   "source": [
    "# Combine for cancer\n",
    "has_cncr = (df['CHCSCNCR'] == 1) | (df['CHCOCNCR'] == 1)\n",
    "df['CNCR'] = has_cncr.astype(int)\n",
    "df['CNCR'].value_counts()"
   ]
  },
  {
   "cell_type": "code",
   "execution_count": 28,
   "id": "8cd80391",
   "metadata": {},
   "outputs": [
    {
     "data": {
      "text/plain": [
       "0    761194\n",
       "1     95767\n",
       "Name: CVD, dtype: int64"
      ]
     },
     "execution_count": 28,
     "metadata": {},
     "output_type": "execute_result"
    }
   ],
   "source": [
    "# Combine for heart condition\n",
    "has_cvd = (df[\"CVDCRHD4\"] == 1) | (df[\"CVDINFR4\"] == 1) | (df[\"CVDSTRK3\"] == 1) \n",
    "df[\"CVD\"] = has_cvd.astype(int)\n",
    "df[\"CVD\"].value_counts() "
   ]
  },
  {
   "cell_type": "code",
   "execution_count": 30,
   "id": "12ff7424",
   "metadata": {},
   "outputs": [
    {
     "name": "stdout",
     "output_type": "stream",
     "text": [
      "0    0.826574\n",
      "1    0.173426\n",
      "Name: CNCR, dtype: float64\n",
      "0    0.888248\n",
      "1    0.111752\n",
      "Name: CVD, dtype: float64\n"
     ]
    }
   ],
   "source": [
    "# print the percentage of either value in the two columns for cancer and heart condition\n",
    "print(df['CNCR'].value_counts() / len(df['CNCR']))\n",
    "print(df['CVD'].value_counts() / len(df['CVD']))"
   ]
  },
  {
   "attachments": {},
   "cell_type": "markdown",
   "id": "31078f1a",
   "metadata": {},
   "source": [
    "• Before creating the two additional categorical columns, we need to clean the Nan values in the chronic condition columns\n",
    "\n",
    "#### Missing value analysis in the chronic conditions"
   ]
  },
  {
   "cell_type": "code",
   "execution_count": 32,
   "id": "27724eee",
   "metadata": {},
   "outputs": [
    {
     "name": "stdout",
     "output_type": "stream",
     "text": [
      "(856961, 11)\n"
     ]
    }
   ],
   "source": [
    "chronic_df = df[['ADDEPEV3', '_CASTHM1', 'CHCCOPD2', 'CHCSCNCR', 'CHCOCNCR', 'CNCR', 'CVDCRHD4', 'CVDINFR4', 'CVDSTRK3', 'CVD', 'DIABETE4']]\n",
    "print(chronic_df.shape)"
   ]
  },
  {
   "cell_type": "code",
   "execution_count": 36,
   "id": "84b3219f",
   "metadata": {},
   "outputs": [
    {
     "data": {
      "text/html": [
       "<div>\n",
       "<style scoped>\n",
       "    .dataframe tbody tr th:only-of-type {\n",
       "        vertical-align: middle;\n",
       "    }\n",
       "\n",
       "    .dataframe tbody tr th {\n",
       "        vertical-align: top;\n",
       "    }\n",
       "\n",
       "    .dataframe thead th {\n",
       "        text-align: right;\n",
       "    }\n",
       "</style>\n",
       "<table border=\"1\" class=\"dataframe\">\n",
       "  <thead>\n",
       "    <tr style=\"text-align: right;\">\n",
       "      <th></th>\n",
       "      <th>index</th>\n",
       "      <th>0</th>\n",
       "    </tr>\n",
       "  </thead>\n",
       "  <tbody>\n",
       "    <tr>\n",
       "      <th>0</th>\n",
       "      <td>ADDEPEV3</td>\n",
       "      <td>13</td>\n",
       "    </tr>\n",
       "    <tr>\n",
       "      <th>1</th>\n",
       "      <td>_CASTHM1</td>\n",
       "      <td>0</td>\n",
       "    </tr>\n",
       "    <tr>\n",
       "      <th>2</th>\n",
       "      <td>CHCCOPD2</td>\n",
       "      <td>11</td>\n",
       "    </tr>\n",
       "    <tr>\n",
       "      <th>3</th>\n",
       "      <td>CHCSCNCR</td>\n",
       "      <td>10</td>\n",
       "    </tr>\n",
       "    <tr>\n",
       "      <th>4</th>\n",
       "      <td>CHCOCNCR</td>\n",
       "      <td>12</td>\n",
       "    </tr>\n",
       "    <tr>\n",
       "      <th>5</th>\n",
       "      <td>CNCR</td>\n",
       "      <td>0</td>\n",
       "    </tr>\n",
       "    <tr>\n",
       "      <th>6</th>\n",
       "      <td>CVDCRHD4</td>\n",
       "      <td>10</td>\n",
       "    </tr>\n",
       "    <tr>\n",
       "      <th>7</th>\n",
       "      <td>CVDINFR4</td>\n",
       "      <td>12</td>\n",
       "    </tr>\n",
       "    <tr>\n",
       "      <th>8</th>\n",
       "      <td>CVDSTRK3</td>\n",
       "      <td>13</td>\n",
       "    </tr>\n",
       "    <tr>\n",
       "      <th>9</th>\n",
       "      <td>CVD</td>\n",
       "      <td>0</td>\n",
       "    </tr>\n",
       "    <tr>\n",
       "      <th>10</th>\n",
       "      <td>DIABETE4</td>\n",
       "      <td>12</td>\n",
       "    </tr>\n",
       "  </tbody>\n",
       "</table>\n",
       "</div>"
      ],
      "text/plain": [
       "       index   0\n",
       "0   ADDEPEV3  13\n",
       "1   _CASTHM1   0\n",
       "2   CHCCOPD2  11\n",
       "3   CHCSCNCR  10\n",
       "4   CHCOCNCR  12\n",
       "5       CNCR   0\n",
       "6   CVDCRHD4  10\n",
       "7   CVDINFR4  12\n",
       "8   CVDSTRK3  13\n",
       "9        CVD   0\n",
       "10  DIABETE4  12"
      ]
     },
     "execution_count": 36,
     "metadata": {},
     "output_type": "execute_result"
    }
   ],
   "source": [
    "# Missing value analysis in the chronic_df\n",
    "# list all the columns and number of missing values in that column\n",
    "missing_cols = chronic_df.isna().sum().reset_index()\n",
    "missing_cols"
   ]
  },
  {
   "attachments": {},
   "cell_type": "markdown",
   "id": "4f5765e9",
   "metadata": {},
   "source": [
    "• We can see that there are only few missing values(<14) in these columns. We should just drop these rows."
   ]
  },
  {
   "cell_type": "code",
   "execution_count": 37,
   "id": "bf7e4be4",
   "metadata": {},
   "outputs": [],
   "source": [
    "df.dropna(subset=['ADDEPEV3', '_CASTHM1', 'CHCCOPD2', 'CHCSCNCR', 'CHCOCNCR', 'CVDCRHD4', 'CVDINFR4', 'CVDSTRK3', 'DIABETE4'], inplace=True)"
   ]
  },
  {
   "cell_type": "code",
   "execution_count": 39,
   "id": "5637969f",
   "metadata": {},
   "outputs": [
    {
     "data": {
      "text/plain": [
       "array([1, 0])"
      ]
     },
     "execution_count": 39,
     "metadata": {},
     "output_type": "execute_result"
    }
   ],
   "source": [
    "### 1.2 Create two additional categorical columns - CMB_bianry, CMN_multi\n",
    "has_chronic = (df['CNCR'] == 1)  | (df['ADDEPEV3'] == 1) | (df['_CASTHM1'] == 1) | (df['CHCCOPD2'] == 1) | (df['CVD'] == 1) | (df['DIABETE4'] == 1)\n",
    "df['CMB_binary'] = has_chronic.astype(int)\n",
    "df['CMB_binary'].unique()"
   ]
  },
  {
   "cell_type": "code",
   "execution_count": null,
   "id": "7904b799",
   "metadata": {},
   "outputs": [],
   "source": []
  }
 ],
 "metadata": {
  "kernelspec": {
   "display_name": "Python 3 (ipykernel)",
   "language": "python",
   "name": "python3"
  },
  "language_info": {
   "codemirror_mode": {
    "name": "ipython",
    "version": 3
   },
   "file_extension": ".py",
   "mimetype": "text/x-python",
   "name": "python",
   "nbconvert_exporter": "python",
   "pygments_lexer": "ipython3",
   "version": "3.9.12"
  }
 },
 "nbformat": 4,
 "nbformat_minor": 5
}
