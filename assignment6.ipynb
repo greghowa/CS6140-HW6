{
 "cells": [
  {
   "attachments": {},
   "cell_type": "markdown",
   "id": "57061f68",
   "metadata": {},
   "source": [
    "Ravi, Xiong, and Howard<br>\n",
    "CS 6140: Machine Learning<br>\n",
    "Northeastern University<br>\n",
    "March 27, 2023"
   ]
  },
  {
   "attachments": {},
   "cell_type": "markdown",
   "id": "5e36b5f4",
   "metadata": {},
   "source": [
    "## HW 6: Comprehensive Supervised Learning"
   ]
  },
  {
   "attachments": {},
   "cell_type": "markdown",
   "id": "f6c2740d",
   "metadata": {},
   "source": [
    "### 0. Imports and data clean up"
   ]
  },
  {
   "attachments": {},
   "cell_type": "markdown",
   "id": "dbc7efc5",
   "metadata": {},
   "source": [
    "##### 0.1 Import libraries"
   ]
  },
  {
   "cell_type": "code",
   "execution_count": 74,
   "id": "4c1b37fe",
   "metadata": {},
   "outputs": [],
   "source": [
    "import pandas as pd\n",
    "import numpy as np\n",
    "import seaborn as sns\n",
    "import matplotlib.pyplot as plt\n",
    "from sklearn.preprocessing import StandardScaler\n",
    "from sklearn.metrics import accuracy_score, confusion_matrix, mean_squared_error, precision_score, recall_score, f1_score, r2_score\n",
    "from sklearn.model_selection import train_test_split\n",
    "from sklearn.neighbors import LocalOutlierFactor\n",
    "\n",
    "# Deliver with style\n",
    "plt.style.use('dark_background')\n",
    "import warnings\n",
    "warnings.filterwarnings('ignore') \n",
    "sns.set(rc={'figure.figsize':(11,8)})\n",
    "pd.options.display.float_format = '{:.2f}'.format"
   ]
  },
  {
   "attachments": {},
   "cell_type": "markdown",
   "id": "839c95ff",
   "metadata": {},
   "source": [
    "##### 0.2 Read the data"
   ]
  },
  {
   "cell_type": "code",
   "execution_count": 75,
   "id": "86cae155",
   "metadata": {},
   "outputs": [
    {
     "name": "stdout",
     "output_type": "stream",
     "text": [
      "(418268, 249)\n",
      "(438693, 249)\n"
     ]
    }
   ],
   "source": [
    "# Read data from csv\n",
    "df19 = pd.read_csv('data/brfss19.csv', usecols = range(1, 250))\n",
    "df21 = pd.read_csv('data/brfss21.csv', usecols = range(1, 250))\n",
    "\n",
    "# Shape of the dataframes\n",
    "print(df19.shape)\n",
    "print(df21.shape)"
   ]
  },
  {
   "cell_type": "code",
   "execution_count": 76,
   "id": "ec0f2dce",
   "metadata": {},
   "outputs": [
    {
     "data": {
      "text/html": [
       "<div>\n",
       "<style scoped>\n",
       "    .dataframe tbody tr th:only-of-type {\n",
       "        vertical-align: middle;\n",
       "    }\n",
       "\n",
       "    .dataframe tbody tr th {\n",
       "        vertical-align: top;\n",
       "    }\n",
       "\n",
       "    .dataframe thead th {\n",
       "        text-align: right;\n",
       "    }\n",
       "</style>\n",
       "<table border=\"1\" class=\"dataframe\">\n",
       "  <thead>\n",
       "    <tr style=\"text-align: right;\">\n",
       "      <th></th>\n",
       "      <th>_STATE</th>\n",
       "      <th>FMONTH</th>\n",
       "      <th>IDATE</th>\n",
       "      <th>IMONTH</th>\n",
       "      <th>IDAY</th>\n",
       "      <th>IYEAR</th>\n",
       "      <th>DISPCODE</th>\n",
       "      <th>SEQNO</th>\n",
       "      <th>_PSU</th>\n",
       "      <th>CTELENM1</th>\n",
       "      <th>...</th>\n",
       "      <th>_FRUTSU1</th>\n",
       "      <th>_VEGESU1</th>\n",
       "      <th>_FRTLT1A</th>\n",
       "      <th>_VEGLT1A</th>\n",
       "      <th>_FRT16A</th>\n",
       "      <th>_VEG23A</th>\n",
       "      <th>_FRUITE1</th>\n",
       "      <th>_VEGETE1</th>\n",
       "      <th>_FLSHOT7</th>\n",
       "      <th>_PNEUMO3</th>\n",
       "    </tr>\n",
       "  </thead>\n",
       "  <tbody>\n",
       "    <tr>\n",
       "      <th>0</th>\n",
       "      <td>1</td>\n",
       "      <td>1</td>\n",
       "      <td>1182019</td>\n",
       "      <td>1</td>\n",
       "      <td>18</td>\n",
       "      <td>2019</td>\n",
       "      <td>1100</td>\n",
       "      <td>2019000001</td>\n",
       "      <td>2019000001</td>\n",
       "      <td>1.00</td>\n",
       "      <td>...</td>\n",
       "      <td>200.00</td>\n",
       "      <td>114.00</td>\n",
       "      <td>1</td>\n",
       "      <td>1</td>\n",
       "      <td>1</td>\n",
       "      <td>1</td>\n",
       "      <td>0</td>\n",
       "      <td>0</td>\n",
       "      <td>2.00</td>\n",
       "      <td>1.00</td>\n",
       "    </tr>\n",
       "    <tr>\n",
       "      <th>1</th>\n",
       "      <td>1</td>\n",
       "      <td>1</td>\n",
       "      <td>1132019</td>\n",
       "      <td>1</td>\n",
       "      <td>13</td>\n",
       "      <td>2019</td>\n",
       "      <td>1100</td>\n",
       "      <td>2019000002</td>\n",
       "      <td>2019000002</td>\n",
       "      <td>1.00</td>\n",
       "      <td>...</td>\n",
       "      <td>100.00</td>\n",
       "      <td>121.00</td>\n",
       "      <td>1</td>\n",
       "      <td>1</td>\n",
       "      <td>1</td>\n",
       "      <td>1</td>\n",
       "      <td>0</td>\n",
       "      <td>0</td>\n",
       "      <td>1.00</td>\n",
       "      <td>1.00</td>\n",
       "    </tr>\n",
       "    <tr>\n",
       "      <th>2</th>\n",
       "      <td>1</td>\n",
       "      <td>1</td>\n",
       "      <td>1182019</td>\n",
       "      <td>1</td>\n",
       "      <td>18</td>\n",
       "      <td>2019</td>\n",
       "      <td>1100</td>\n",
       "      <td>2019000003</td>\n",
       "      <td>2019000003</td>\n",
       "      <td>1.00</td>\n",
       "      <td>...</td>\n",
       "      <td>114.00</td>\n",
       "      <td>164.00</td>\n",
       "      <td>1</td>\n",
       "      <td>1</td>\n",
       "      <td>1</td>\n",
       "      <td>1</td>\n",
       "      <td>0</td>\n",
       "      <td>0</td>\n",
       "      <td>1.00</td>\n",
       "      <td>2.00</td>\n",
       "    </tr>\n",
       "    <tr>\n",
       "      <th>3</th>\n",
       "      <td>1</td>\n",
       "      <td>1</td>\n",
       "      <td>1182019</td>\n",
       "      <td>1</td>\n",
       "      <td>18</td>\n",
       "      <td>2019</td>\n",
       "      <td>1200</td>\n",
       "      <td>2019000004</td>\n",
       "      <td>2019000004</td>\n",
       "      <td>1.00</td>\n",
       "      <td>...</td>\n",
       "      <td>NaN</td>\n",
       "      <td>NaN</td>\n",
       "      <td>9</td>\n",
       "      <td>9</td>\n",
       "      <td>1</td>\n",
       "      <td>1</td>\n",
       "      <td>1</td>\n",
       "      <td>1</td>\n",
       "      <td>9.00</td>\n",
       "      <td>9.00</td>\n",
       "    </tr>\n",
       "    <tr>\n",
       "      <th>4</th>\n",
       "      <td>1</td>\n",
       "      <td>1</td>\n",
       "      <td>1042019</td>\n",
       "      <td>1</td>\n",
       "      <td>4</td>\n",
       "      <td>2019</td>\n",
       "      <td>1100</td>\n",
       "      <td>2019000005</td>\n",
       "      <td>2019000005</td>\n",
       "      <td>1.00</td>\n",
       "      <td>...</td>\n",
       "      <td>143.00</td>\n",
       "      <td>178.00</td>\n",
       "      <td>1</td>\n",
       "      <td>1</td>\n",
       "      <td>1</td>\n",
       "      <td>1</td>\n",
       "      <td>0</td>\n",
       "      <td>0</td>\n",
       "      <td>2.00</td>\n",
       "      <td>1.00</td>\n",
       "    </tr>\n",
       "  </tbody>\n",
       "</table>\n",
       "<p>5 rows × 249 columns</p>\n",
       "</div>"
      ],
      "text/plain": [
       "   _STATE  FMONTH    IDATE  IMONTH  IDAY  IYEAR  DISPCODE       SEQNO  \\\n",
       "0       1       1  1182019       1    18   2019      1100  2019000001   \n",
       "1       1       1  1132019       1    13   2019      1100  2019000002   \n",
       "2       1       1  1182019       1    18   2019      1100  2019000003   \n",
       "3       1       1  1182019       1    18   2019      1200  2019000004   \n",
       "4       1       1  1042019       1     4   2019      1100  2019000005   \n",
       "\n",
       "         _PSU  CTELENM1  ...  _FRUTSU1  _VEGESU1  _FRTLT1A  _VEGLT1A  _FRT16A  \\\n",
       "0  2019000001      1.00  ...    200.00    114.00         1         1        1   \n",
       "1  2019000002      1.00  ...    100.00    121.00         1         1        1   \n",
       "2  2019000003      1.00  ...    114.00    164.00         1         1        1   \n",
       "3  2019000004      1.00  ...       NaN       NaN         9         9        1   \n",
       "4  2019000005      1.00  ...    143.00    178.00         1         1        1   \n",
       "\n",
       "   _VEG23A  _FRUITE1  _VEGETE1  _FLSHOT7  _PNEUMO3  \n",
       "0        1         0         0      2.00      1.00  \n",
       "1        1         0         0      1.00      1.00  \n",
       "2        1         0         0      1.00      2.00  \n",
       "3        1         1         1      9.00      9.00  \n",
       "4        1         0         0      2.00      1.00  \n",
       "\n",
       "[5 rows x 249 columns]"
      ]
     },
     "execution_count": 76,
     "metadata": {},
     "output_type": "execute_result"
    }
   ],
   "source": [
    "df19.head()"
   ]
  },
  {
   "cell_type": "code",
   "execution_count": 77,
   "id": "c82ac60e",
   "metadata": {},
   "outputs": [
    {
     "data": {
      "text/html": [
       "<div>\n",
       "<style scoped>\n",
       "    .dataframe tbody tr th:only-of-type {\n",
       "        vertical-align: middle;\n",
       "    }\n",
       "\n",
       "    .dataframe tbody tr th {\n",
       "        vertical-align: top;\n",
       "    }\n",
       "\n",
       "    .dataframe thead th {\n",
       "        text-align: right;\n",
       "    }\n",
       "</style>\n",
       "<table border=\"1\" class=\"dataframe\">\n",
       "  <thead>\n",
       "    <tr style=\"text-align: right;\">\n",
       "      <th></th>\n",
       "      <th>_STATE</th>\n",
       "      <th>FMONTH</th>\n",
       "      <th>IDATE</th>\n",
       "      <th>IMONTH</th>\n",
       "      <th>IDAY</th>\n",
       "      <th>IYEAR</th>\n",
       "      <th>DISPCODE</th>\n",
       "      <th>SEQNO</th>\n",
       "      <th>_PSU</th>\n",
       "      <th>CTELENM1</th>\n",
       "      <th>...</th>\n",
       "      <th>_MISVEG1</th>\n",
       "      <th>_FRTRES1</th>\n",
       "      <th>_VEGRES1</th>\n",
       "      <th>_FRUTSU1</th>\n",
       "      <th>_VEGESU1</th>\n",
       "      <th>_FRTLT1A</th>\n",
       "      <th>_VEGLT1A</th>\n",
       "      <th>_FRT16A</th>\n",
       "      <th>_VEG23A</th>\n",
       "      <th>_FRUITE1</th>\n",
       "    </tr>\n",
       "  </thead>\n",
       "  <tbody>\n",
       "    <tr>\n",
       "      <th>0</th>\n",
       "      <td>1.00</td>\n",
       "      <td>1.00</td>\n",
       "      <td>b'01192021'</td>\n",
       "      <td>b'01'</td>\n",
       "      <td>b'19'</td>\n",
       "      <td>b'2021'</td>\n",
       "      <td>1100.00</td>\n",
       "      <td>b'2021000001'</td>\n",
       "      <td>2021000001.00</td>\n",
       "      <td>1.00</td>\n",
       "      <td>...</td>\n",
       "      <td>0.00</td>\n",
       "      <td>1.00</td>\n",
       "      <td>1.00</td>\n",
       "      <td>100.00</td>\n",
       "      <td>214.00</td>\n",
       "      <td>1.00</td>\n",
       "      <td>1.00</td>\n",
       "      <td>1.00</td>\n",
       "      <td>1.00</td>\n",
       "      <td>0.00</td>\n",
       "    </tr>\n",
       "    <tr>\n",
       "      <th>1</th>\n",
       "      <td>1.00</td>\n",
       "      <td>1.00</td>\n",
       "      <td>b'01212021'</td>\n",
       "      <td>b'01'</td>\n",
       "      <td>b'21'</td>\n",
       "      <td>b'2021'</td>\n",
       "      <td>1100.00</td>\n",
       "      <td>b'2021000002'</td>\n",
       "      <td>2021000002.00</td>\n",
       "      <td>1.00</td>\n",
       "      <td>...</td>\n",
       "      <td>0.00</td>\n",
       "      <td>1.00</td>\n",
       "      <td>1.00</td>\n",
       "      <td>100.00</td>\n",
       "      <td>128.00</td>\n",
       "      <td>1.00</td>\n",
       "      <td>1.00</td>\n",
       "      <td>1.00</td>\n",
       "      <td>1.00</td>\n",
       "      <td>0.00</td>\n",
       "    </tr>\n",
       "    <tr>\n",
       "      <th>2</th>\n",
       "      <td>1.00</td>\n",
       "      <td>1.00</td>\n",
       "      <td>b'01212021'</td>\n",
       "      <td>b'01'</td>\n",
       "      <td>b'21'</td>\n",
       "      <td>b'2021'</td>\n",
       "      <td>1100.00</td>\n",
       "      <td>b'2021000003'</td>\n",
       "      <td>2021000003.00</td>\n",
       "      <td>1.00</td>\n",
       "      <td>...</td>\n",
       "      <td>0.00</td>\n",
       "      <td>1.00</td>\n",
       "      <td>1.00</td>\n",
       "      <td>100.00</td>\n",
       "      <td>71.00</td>\n",
       "      <td>1.00</td>\n",
       "      <td>2.00</td>\n",
       "      <td>1.00</td>\n",
       "      <td>1.00</td>\n",
       "      <td>0.00</td>\n",
       "    </tr>\n",
       "    <tr>\n",
       "      <th>3</th>\n",
       "      <td>1.00</td>\n",
       "      <td>1.00</td>\n",
       "      <td>b'01172021'</td>\n",
       "      <td>b'01'</td>\n",
       "      <td>b'17'</td>\n",
       "      <td>b'2021'</td>\n",
       "      <td>1100.00</td>\n",
       "      <td>b'2021000004'</td>\n",
       "      <td>2021000004.00</td>\n",
       "      <td>1.00</td>\n",
       "      <td>...</td>\n",
       "      <td>0.00</td>\n",
       "      <td>1.00</td>\n",
       "      <td>1.00</td>\n",
       "      <td>114.00</td>\n",
       "      <td>165.00</td>\n",
       "      <td>1.00</td>\n",
       "      <td>1.00</td>\n",
       "      <td>1.00</td>\n",
       "      <td>1.00</td>\n",
       "      <td>0.00</td>\n",
       "    </tr>\n",
       "    <tr>\n",
       "      <th>4</th>\n",
       "      <td>1.00</td>\n",
       "      <td>1.00</td>\n",
       "      <td>b'01152021'</td>\n",
       "      <td>b'01'</td>\n",
       "      <td>b'15'</td>\n",
       "      <td>b'2021'</td>\n",
       "      <td>1100.00</td>\n",
       "      <td>b'2021000005'</td>\n",
       "      <td>2021000005.00</td>\n",
       "      <td>1.00</td>\n",
       "      <td>...</td>\n",
       "      <td>0.00</td>\n",
       "      <td>1.00</td>\n",
       "      <td>1.00</td>\n",
       "      <td>100.00</td>\n",
       "      <td>258.00</td>\n",
       "      <td>1.00</td>\n",
       "      <td>1.00</td>\n",
       "      <td>1.00</td>\n",
       "      <td>1.00</td>\n",
       "      <td>0.00</td>\n",
       "    </tr>\n",
       "  </tbody>\n",
       "</table>\n",
       "<p>5 rows × 249 columns</p>\n",
       "</div>"
      ],
      "text/plain": [
       "   _STATE  FMONTH        IDATE IMONTH   IDAY    IYEAR  DISPCODE  \\\n",
       "0    1.00    1.00  b'01192021'  b'01'  b'19'  b'2021'   1100.00   \n",
       "1    1.00    1.00  b'01212021'  b'01'  b'21'  b'2021'   1100.00   \n",
       "2    1.00    1.00  b'01212021'  b'01'  b'21'  b'2021'   1100.00   \n",
       "3    1.00    1.00  b'01172021'  b'01'  b'17'  b'2021'   1100.00   \n",
       "4    1.00    1.00  b'01152021'  b'01'  b'15'  b'2021'   1100.00   \n",
       "\n",
       "           SEQNO          _PSU  CTELENM1  ...  _MISVEG1  _FRTRES1  _VEGRES1  \\\n",
       "0  b'2021000001' 2021000001.00      1.00  ...      0.00      1.00      1.00   \n",
       "1  b'2021000002' 2021000002.00      1.00  ...      0.00      1.00      1.00   \n",
       "2  b'2021000003' 2021000003.00      1.00  ...      0.00      1.00      1.00   \n",
       "3  b'2021000004' 2021000004.00      1.00  ...      0.00      1.00      1.00   \n",
       "4  b'2021000005' 2021000005.00      1.00  ...      0.00      1.00      1.00   \n",
       "\n",
       "   _FRUTSU1  _VEGESU1  _FRTLT1A  _VEGLT1A  _FRT16A  _VEG23A  _FRUITE1  \n",
       "0    100.00    214.00      1.00      1.00     1.00     1.00      0.00  \n",
       "1    100.00    128.00      1.00      1.00     1.00     1.00      0.00  \n",
       "2    100.00     71.00      1.00      2.00     1.00     1.00      0.00  \n",
       "3    114.00    165.00      1.00      1.00     1.00     1.00      0.00  \n",
       "4    100.00    258.00      1.00      1.00     1.00     1.00      0.00  \n",
       "\n",
       "[5 rows x 249 columns]"
      ]
     },
     "execution_count": 77,
     "metadata": {},
     "output_type": "execute_result"
    }
   ],
   "source": [
    "df21.head()"
   ]
  },
  {
   "attachments": {},
   "cell_type": "markdown",
   "id": "b2e13676",
   "metadata": {},
   "source": [
    "##### 0.3 Align the dataframes"
   ]
  },
  {
   "cell_type": "code",
   "execution_count": 78,
   "id": "fbf8b2d2",
   "metadata": {},
   "outputs": [
    {
     "data": {
      "text/plain": [
       "{'CHCCOPD2', 'CHCCOPD3', 'INCOME2', 'INCOME3', '_AIDTST4', '_VEGETE1'}"
      ]
     },
     "execution_count": 78,
     "metadata": {},
     "output_type": "execute_result"
    }
   ],
   "source": [
    "# Compare the different column names in the two data frame\n",
    "(set(df19.columns) | set(df21.columns)) - (set(df19.columns) & set(df21.columns))"
   ]
  },
  {
   "attachments": {},
   "cell_type": "markdown",
   "id": "d8653be5",
   "metadata": {},
   "source": [
    "* The dataframes diverge in only two response column names, which are 'CHCCOPD2' and 'CHCCOPD3'.\n",
    "* Since the two names stand for the same thing, we will rename both of these columns df21['CHCCOPD3'] and df19['CHCCOPD2] as 'COPD'.\n",
    "* For 'INCOME2' and 'INCOME3' we will also rename and preserve as 'INCOME2'.\n",
    "* We will drop '_AIDTST4' and '_VEGETE1' entirely."
   ]
  },
  {
   "cell_type": "code",
   "execution_count": 79,
   "id": "cab366b9",
   "metadata": {},
   "outputs": [],
   "source": [
    "# Renaming the columns to match each other\n",
    "df21.rename(columns = {'CHCCOPD3':'COPD'}, inplace = True)\n",
    "df19.rename(columns = {'CHCCOPD2':'COPD'}, inplace = True)"
   ]
  },
  {
   "cell_type": "code",
   "execution_count": 80,
   "id": "5657ddc4",
   "metadata": {},
   "outputs": [],
   "source": [
    "# Renaming INCOME3 of df21 to INCOME2 to match with df19\n",
    "df21.rename(columns = {'INCOME3' : 'INCOME2'}, inplace = True)"
   ]
  },
  {
   "cell_type": "code",
   "execution_count": 81,
   "id": "cd1dc8e7",
   "metadata": {},
   "outputs": [
    {
     "name": "stdout",
     "output_type": "stream",
     "text": [
      "_STATE\n",
      "FMONTH\n",
      "IDATE\n",
      "IMONTH\n",
      "IDAY\n",
      "IYEAR\n",
      "DISPCODE\n",
      "SEQNO\n",
      "_PSU\n",
      "CTELENM1\n",
      "PVTRESD1\n",
      "COLGHOUS\n",
      "STATERE1\n",
      "LADULT1\n",
      "COLGSEX\n",
      "NUMADULT\n",
      "LANDSEX\n",
      "NUMMEN\n",
      "NUMWOMEN\n",
      "RESPSLCT\n",
      "SAFETIME\n",
      "CTELNUM1\n",
      "CELLFON5\n",
      "CADULT1\n",
      "CELLSEX\n",
      "PVTRESD3\n",
      "CCLGHOUS\n",
      "CSTATE1\n",
      "LANDLINE\n",
      "HHADULT\n",
      "SEXVAR\n",
      "GENHLTH\n",
      "PHYSHLTH\n",
      "MENTHLTH\n",
      "POORHLTH\n",
      "CHECKUP1\n",
      "BPMEDS\n",
      "CVDINFR4\n",
      "CVDCRHD4\n",
      "CVDSTRK3\n",
      "ASTHMA3\n",
      "ASTHNOW\n",
      "CHCSCNCR\n",
      "CHCOCNCR\n",
      "COPD\n",
      "ADDEPEV3\n",
      "CHCKDNY2\n",
      "DIABETE4\n",
      "DIABAGE3\n",
      "ARTHEXER\n",
      "ARTHEDU\n",
      "LMTJOIN3\n",
      "ARTHDIS2\n",
      "JOINPAI2\n",
      "MARITAL\n",
      "EDUCA\n",
      "RENTHOM1\n",
      "NUMHHOL3\n",
      "NUMPHON3\n",
      "CPDEMO1B\n",
      "VETERAN3\n",
      "EMPLOY1\n",
      "CHILDREN\n",
      "INCOME2\n",
      "WEIGHT2\n",
      "HEIGHT3\n",
      "PREGNANT\n",
      "DEAF\n",
      "BLIND\n",
      "DECIDE\n",
      "DIFFWALK\n",
      "DIFFDRES\n",
      "DIFFALON\n",
      "SMOKE100\n",
      "SMOKDAY2\n",
      "STOPSMK2\n",
      "LASTSMK2\n",
      "USENOW3\n",
      "ALCDAY5\n",
      "AVEDRNK3\n",
      "DRNK3GE5\n",
      "MAXDRNKS\n",
      "EXERANY2\n",
      "FRUIT2\n",
      "FRUITJU2\n",
      "FVGREEN1\n",
      "FRENCHF1\n",
      "POTATOE1\n",
      "VEGETAB2\n",
      "FLUSHOT7\n",
      "FLSHTMY3\n",
      "TETANUS1\n",
      "PNEUVAC4\n",
      "HIVTST7\n",
      "HIVTSTD3\n",
      "PDIABTST\n",
      "PREDIAB1\n",
      "INSULIN1\n",
      "BLDSUGAR\n",
      "FEETCHK3\n",
      "DOCTDIAB\n",
      "CHKHEMO3\n",
      "FEETCHK\n",
      "EYEEXAM1\n",
      "DIABEYE\n",
      "DIABEDU\n",
      "TOLDCFS\n",
      "HAVECFS\n",
      "WORKCFS\n",
      "TOLDHEPC\n",
      "TRETHEPC\n",
      "PRIRHEPC\n",
      "HAVEHEPC\n",
      "HAVEHEPB\n",
      "MEDSHEPB\n",
      "HPVADSHT\n",
      "SHINGLE2\n",
      "LCSFIRST\n",
      "LCSLAST\n",
      "LCSNUMCG\n",
      "LCSCTSCN\n",
      "HADMAM\n",
      "HOWLONG\n",
      "HADHYST2\n",
      "PSATEST1\n",
      "CNCRDIFF\n",
      "CNCRAGE\n",
      "CNCRTYP1\n",
      "CSRVTRT3\n",
      "CSRVDOC1\n",
      "CSRVSUM\n",
      "CSRVRTRN\n",
      "CSRVINST\n",
      "CSRVINSR\n",
      "CSRVDEIN\n",
      "CSRVCLIN\n",
      "CSRVPAIN\n",
      "CSRVCTL2\n",
      "HOMBPCHK\n",
      "HOMRGCHK\n",
      "WHEREBP\n",
      "SHAREBP\n",
      "WTCHSALT\n",
      "DRADVISE\n",
      "CIMEMLOS\n",
      "CDHOUSE\n",
      "CDASSIST\n",
      "CDHELP\n",
      "CDSOCIAL\n",
      "CDDISCUS\n",
      "CAREGIV1\n",
      "CRGVLNG1\n",
      "CRGVHRS1\n",
      "CRGVPRB3\n",
      "CRGVALZD\n",
      "CRGVPER1\n",
      "CRGVHOU1\n",
      "CRGVEXPT\n",
      "ACEDEPRS\n",
      "ACEDRINK\n",
      "ACEDRUGS\n",
      "ACEPRISN\n",
      "ACEDIVRC\n",
      "ACEPUNCH\n",
      "ACEHURT1\n",
      "ACESWEAR\n",
      "ACETOUCH\n",
      "ACETTHEM\n",
      "ACEHVSEX\n",
      "MARIJAN1\n",
      "BIRTHSEX\n",
      "SOMALE\n",
      "SOFEMALE\n",
      "TRNSGNDR\n",
      "RCSGENDR\n",
      "RCSRLTN2\n",
      "CASTHDX2\n",
      "CASTHNO2\n",
      "QSTVER\n",
      "QSTLANG\n",
      "_METSTAT\n",
      "_URBSTAT\n",
      "MSCODE\n",
      "_STSTR\n",
      "_STRWT\n",
      "_RAWRAKE\n",
      "_WT2RAKE\n",
      "_IMPRACE\n",
      "_CHISPNC\n",
      "_CRACE1\n",
      "_CLLCPWT\n",
      "_DUALUSE\n",
      "_DUALCOR\n",
      "_LLCPWT2\n",
      "_LLCPWT\n",
      "_RFHLTH\n",
      "_PHYS14D\n",
      "_MENT14D\n",
      "_MICHD\n",
      "_LTASTH1\n",
      "_CASTHM1\n",
      "_ASTHMS1\n",
      "_PRACE1\n",
      "_MRACE1\n",
      "_HISPANC\n",
      "_RACE\n",
      "_RACEG21\n",
      "_RACEGR3\n",
      "_SEX\n",
      "_AGEG5YR\n",
      "_AGE65YR\n",
      "_AGE80\n",
      "_AGE_G\n",
      "HTIN4\n",
      "HTM4\n",
      "WTKG3\n",
      "_BMI5\n",
      "_BMI5CAT\n",
      "_RFBMI5\n",
      "_CHLDCNT\n",
      "_EDUCAG\n",
      "_SMOKER3\n",
      "_RFSMOK3\n",
      "DRNKANY5\n",
      "DROCDY3_\n",
      "_RFBING5\n",
      "_DRNKWK1\n",
      "_RFDRHV7\n",
      "_TOTINDA\n",
      "FTJUDA2_\n",
      "FRUTDA2_\n",
      "GRENDA1_\n",
      "FRNCHDA_\n",
      "POTADA1_\n",
      "VEGEDA2_\n",
      "_MISFRT1\n",
      "_MISVEG1\n",
      "_FRTRES1\n",
      "_VEGRES1\n",
      "_FRUTSU1\n",
      "_VEGESU1\n",
      "_FRTLT1A\n",
      "_VEGLT1A\n",
      "_FRT16A\n",
      "_VEG23A\n",
      "_FRUITE1\n",
      "_VEGETE1\n",
      "_FLSHOT7\n",
      "_PNEUMO3\n"
     ]
    }
   ],
   "source": [
    "for col in (df19.columns):\n",
    "    print(col)"
   ]
  },
  {
   "cell_type": "code",
   "execution_count": 82,
   "id": "df257993",
   "metadata": {},
   "outputs": [],
   "source": [
    "# Dropping _AIDTST4 and _VEGETE1\n",
    "df21 = df21.drop('_AIDTST4', axis=1)\n",
    "df19 = df19.drop('_VEGETE1', axis=1)"
   ]
  },
  {
   "cell_type": "code",
   "execution_count": 83,
   "id": "3ce6dc38",
   "metadata": {},
   "outputs": [
    {
     "name": "stdout",
     "output_type": "stream",
     "text": [
      "set()\n"
     ]
    }
   ],
   "source": [
    "# Confirming no issue\n",
    "print(set(df21.columns) - set(df19.columns))\n",
    "for column in df21.columns:\n",
    "    if column not in set(df19.columns):\n",
    "        print(column)\n",
    "for column in df19.columns:\n",
    "    if column not in set(df21.columns):\n",
    "        print(column)"
   ]
  },
  {
   "attachments": {},
   "cell_type": "markdown",
   "id": "0d73da90",
   "metadata": {},
   "source": [
    "##### 0.4 Combine the dataframes"
   ]
  },
  {
   "cell_type": "code",
   "execution_count": 84,
   "id": "29efb83b",
   "metadata": {},
   "outputs": [
    {
     "data": {
      "text/html": [
       "<div>\n",
       "<style scoped>\n",
       "    .dataframe tbody tr th:only-of-type {\n",
       "        vertical-align: middle;\n",
       "    }\n",
       "\n",
       "    .dataframe tbody tr th {\n",
       "        vertical-align: top;\n",
       "    }\n",
       "\n",
       "    .dataframe thead th {\n",
       "        text-align: right;\n",
       "    }\n",
       "</style>\n",
       "<table border=\"1\" class=\"dataframe\">\n",
       "  <thead>\n",
       "    <tr style=\"text-align: right;\">\n",
       "      <th></th>\n",
       "      <th>_STATE</th>\n",
       "      <th>FMONTH</th>\n",
       "      <th>IDATE</th>\n",
       "      <th>IMONTH</th>\n",
       "      <th>IDAY</th>\n",
       "      <th>IYEAR</th>\n",
       "      <th>DISPCODE</th>\n",
       "      <th>SEQNO</th>\n",
       "      <th>_PSU</th>\n",
       "      <th>CTELENM1</th>\n",
       "      <th>...</th>\n",
       "      <th>_VEGRES1</th>\n",
       "      <th>_FRUTSU1</th>\n",
       "      <th>_VEGESU1</th>\n",
       "      <th>_FRTLT1A</th>\n",
       "      <th>_VEGLT1A</th>\n",
       "      <th>_FRT16A</th>\n",
       "      <th>_VEG23A</th>\n",
       "      <th>_FRUITE1</th>\n",
       "      <th>_FLSHOT7</th>\n",
       "      <th>_PNEUMO3</th>\n",
       "    </tr>\n",
       "  </thead>\n",
       "  <tbody>\n",
       "    <tr>\n",
       "      <th>0</th>\n",
       "      <td>1.00</td>\n",
       "      <td>1.00</td>\n",
       "      <td>1182019</td>\n",
       "      <td>1</td>\n",
       "      <td>18</td>\n",
       "      <td>2019</td>\n",
       "      <td>1100.00</td>\n",
       "      <td>2019000001</td>\n",
       "      <td>2019000001.00</td>\n",
       "      <td>1.00</td>\n",
       "      <td>...</td>\n",
       "      <td>1.00</td>\n",
       "      <td>200.00</td>\n",
       "      <td>114.00</td>\n",
       "      <td>1.00</td>\n",
       "      <td>1.00</td>\n",
       "      <td>1.00</td>\n",
       "      <td>1.00</td>\n",
       "      <td>0.00</td>\n",
       "      <td>2.00</td>\n",
       "      <td>1.00</td>\n",
       "    </tr>\n",
       "    <tr>\n",
       "      <th>1</th>\n",
       "      <td>1.00</td>\n",
       "      <td>1.00</td>\n",
       "      <td>1132019</td>\n",
       "      <td>1</td>\n",
       "      <td>13</td>\n",
       "      <td>2019</td>\n",
       "      <td>1100.00</td>\n",
       "      <td>2019000002</td>\n",
       "      <td>2019000002.00</td>\n",
       "      <td>1.00</td>\n",
       "      <td>...</td>\n",
       "      <td>1.00</td>\n",
       "      <td>100.00</td>\n",
       "      <td>121.00</td>\n",
       "      <td>1.00</td>\n",
       "      <td>1.00</td>\n",
       "      <td>1.00</td>\n",
       "      <td>1.00</td>\n",
       "      <td>0.00</td>\n",
       "      <td>1.00</td>\n",
       "      <td>1.00</td>\n",
       "    </tr>\n",
       "    <tr>\n",
       "      <th>2</th>\n",
       "      <td>1.00</td>\n",
       "      <td>1.00</td>\n",
       "      <td>1182019</td>\n",
       "      <td>1</td>\n",
       "      <td>18</td>\n",
       "      <td>2019</td>\n",
       "      <td>1100.00</td>\n",
       "      <td>2019000003</td>\n",
       "      <td>2019000003.00</td>\n",
       "      <td>1.00</td>\n",
       "      <td>...</td>\n",
       "      <td>1.00</td>\n",
       "      <td>114.00</td>\n",
       "      <td>164.00</td>\n",
       "      <td>1.00</td>\n",
       "      <td>1.00</td>\n",
       "      <td>1.00</td>\n",
       "      <td>1.00</td>\n",
       "      <td>0.00</td>\n",
       "      <td>1.00</td>\n",
       "      <td>2.00</td>\n",
       "    </tr>\n",
       "    <tr>\n",
       "      <th>3</th>\n",
       "      <td>1.00</td>\n",
       "      <td>1.00</td>\n",
       "      <td>1182019</td>\n",
       "      <td>1</td>\n",
       "      <td>18</td>\n",
       "      <td>2019</td>\n",
       "      <td>1200.00</td>\n",
       "      <td>2019000004</td>\n",
       "      <td>2019000004.00</td>\n",
       "      <td>1.00</td>\n",
       "      <td>...</td>\n",
       "      <td>0.00</td>\n",
       "      <td>NaN</td>\n",
       "      <td>NaN</td>\n",
       "      <td>9.00</td>\n",
       "      <td>9.00</td>\n",
       "      <td>1.00</td>\n",
       "      <td>1.00</td>\n",
       "      <td>1.00</td>\n",
       "      <td>9.00</td>\n",
       "      <td>9.00</td>\n",
       "    </tr>\n",
       "    <tr>\n",
       "      <th>4</th>\n",
       "      <td>1.00</td>\n",
       "      <td>1.00</td>\n",
       "      <td>1042019</td>\n",
       "      <td>1</td>\n",
       "      <td>4</td>\n",
       "      <td>2019</td>\n",
       "      <td>1100.00</td>\n",
       "      <td>2019000005</td>\n",
       "      <td>2019000005.00</td>\n",
       "      <td>1.00</td>\n",
       "      <td>...</td>\n",
       "      <td>1.00</td>\n",
       "      <td>143.00</td>\n",
       "      <td>178.00</td>\n",
       "      <td>1.00</td>\n",
       "      <td>1.00</td>\n",
       "      <td>1.00</td>\n",
       "      <td>1.00</td>\n",
       "      <td>0.00</td>\n",
       "      <td>2.00</td>\n",
       "      <td>1.00</td>\n",
       "    </tr>\n",
       "  </tbody>\n",
       "</table>\n",
       "<p>5 rows × 248 columns</p>\n",
       "</div>"
      ],
      "text/plain": [
       "   _STATE  FMONTH    IDATE IMONTH IDAY IYEAR  DISPCODE       SEQNO  \\\n",
       "0    1.00    1.00  1182019      1   18  2019   1100.00  2019000001   \n",
       "1    1.00    1.00  1132019      1   13  2019   1100.00  2019000002   \n",
       "2    1.00    1.00  1182019      1   18  2019   1100.00  2019000003   \n",
       "3    1.00    1.00  1182019      1   18  2019   1200.00  2019000004   \n",
       "4    1.00    1.00  1042019      1    4  2019   1100.00  2019000005   \n",
       "\n",
       "           _PSU  CTELENM1  ...  _VEGRES1  _FRUTSU1  _VEGESU1  _FRTLT1A  \\\n",
       "0 2019000001.00      1.00  ...      1.00    200.00    114.00      1.00   \n",
       "1 2019000002.00      1.00  ...      1.00    100.00    121.00      1.00   \n",
       "2 2019000003.00      1.00  ...      1.00    114.00    164.00      1.00   \n",
       "3 2019000004.00      1.00  ...      0.00       NaN       NaN      9.00   \n",
       "4 2019000005.00      1.00  ...      1.00    143.00    178.00      1.00   \n",
       "\n",
       "   _VEGLT1A  _FRT16A  _VEG23A  _FRUITE1  _FLSHOT7  _PNEUMO3  \n",
       "0      1.00     1.00     1.00      0.00      2.00      1.00  \n",
       "1      1.00     1.00     1.00      0.00      1.00      1.00  \n",
       "2      1.00     1.00     1.00      0.00      1.00      2.00  \n",
       "3      9.00     1.00     1.00      1.00      9.00      9.00  \n",
       "4      1.00     1.00     1.00      0.00      2.00      1.00  \n",
       "\n",
       "[5 rows x 248 columns]"
      ]
     },
     "execution_count": 84,
     "metadata": {},
     "output_type": "execute_result"
    }
   ],
   "source": [
    "# Now the two df has the same column names, we can concat the two df.\n",
    "df = pd.concat([df19, df21], ignore_index=True, sort=False)\n",
    "df.head()"
   ]
  },
  {
   "attachments": {},
   "cell_type": "markdown",
   "id": "0d703504",
   "metadata": {},
   "source": [
    "### 1. Identifying the response variables and the feature space\n",
    "\n",
    "Prepare the compound response variables:\n",
    "* Depression: df['ADDEPEV3']\n",
    "* Ever Told Asthma: df['_CASTHM1']\n",
    "* Copd: df['COPD']\n",
    "* Cancer: df['CHCSCNCR'], df['CHCOCNCR']\n",
    "* Ever Told Heart Condition: df['CVDCRHD4'], df['CVDINFR4'], df['CVDSTRK3']\n",
    "* Diabetes: df['DIABETE4']<br>\n",
    "\n",
    "Then handle missing values and prepare the dataframe for analysis.<br>"
   ]
  },
  {
   "attachments": {},
   "cell_type": "markdown",
   "id": "2fd2bfaa",
   "metadata": {},
   "source": [
    "##### 1.1 'Inclusive or' for cancers and cardiovascular diseases"
   ]
  },
  {
   "cell_type": "code",
   "execution_count": 85,
   "id": "5719c9b8",
   "metadata": {},
   "outputs": [
    {
     "name": "stdout",
     "output_type": "stream",
     "text": [
      "[ 2.  1. nan  7.  9.]\n",
      "[ 2.  1.  9.  7. nan]\n"
     ]
    }
   ],
   "source": [
    "# For cancer, we need to combine df['CHCSCNCR'] and f['CHCOCNCR']\n",
    "print(df['CHCSCNCR'].unique())\n",
    "print(df['CHCOCNCR'].unique())"
   ]
  },
  {
   "attachments": {},
   "cell_type": "markdown",
   "id": "41c5c81e",
   "metadata": {},
   "source": [
    "Per the Codebook Report, only 1 stands for diagnosed. If either column shows 1, then the combined column is 1. Otherwise, we use 0 to stand for not diagnosed."
   ]
  },
  {
   "cell_type": "code",
   "execution_count": 86,
   "id": "9c2e292f",
   "metadata": {},
   "outputs": [
    {
     "data": {
      "text/plain": [
       "0    708342\n",
       "1    148619\n",
       "Name: CNCR, dtype: int64"
      ]
     },
     "execution_count": 86,
     "metadata": {},
     "output_type": "execute_result"
    }
   ],
   "source": [
    "# Combine two different types of cancer into one feature\n",
    "has_cncr = (df['CHCSCNCR'] == 1) | (df['CHCOCNCR'] == 1)\n",
    "df['CNCR'] = has_cncr.astype(int)\n",
    "df['CNCR'].value_counts()"
   ]
  },
  {
   "cell_type": "code",
   "execution_count": 87,
   "id": "8cd80391",
   "metadata": {},
   "outputs": [
    {
     "data": {
      "text/plain": [
       "0    761194\n",
       "1     95767\n",
       "Name: CVD, dtype: int64"
      ]
     },
     "execution_count": 87,
     "metadata": {},
     "output_type": "execute_result"
    }
   ],
   "source": [
    "# Combine three different cardio-vascular condition into one feature\n",
    "has_cvd = (df[\"CVDCRHD4\"] == 1) | (df[\"CVDINFR4\"] == 1) | (df[\"CVDSTRK3\"] == 1) \n",
    "df[\"CVD\"] = has_cvd.astype(int)\n",
    "df[\"CVD\"].value_counts() "
   ]
  },
  {
   "cell_type": "code",
   "execution_count": 88,
   "id": "12ff7424",
   "metadata": {},
   "outputs": [
    {
     "name": "stdout",
     "output_type": "stream",
     "text": [
      "0   0.83\n",
      "1   0.17\n",
      "Name: CNCR, dtype: float64\n",
      "0   0.89\n",
      "1   0.11\n",
      "Name: CVD, dtype: float64\n"
     ]
    }
   ],
   "source": [
    "# print the percentage of unique values for cancer and heart condition\n",
    "print(df['CNCR'].value_counts() / len(df['CNCR']))\n",
    "print(df['CVD'].value_counts() / len(df['CVD']))"
   ]
  },
  {
   "attachments": {},
   "cell_type": "markdown",
   "id": "31078f1a",
   "metadata": {},
   "source": [
    "Before creating the two additional categorical columns, we need to clean the NaN values in the chronic condition columns.\n",
    "\n",
    "##### 1.2 Handling missing response values"
   ]
  },
  {
   "cell_type": "code",
   "execution_count": 89,
   "id": "27724eee",
   "metadata": {},
   "outputs": [
    {
     "name": "stdout",
     "output_type": "stream",
     "text": [
      "(856961, 11)\n"
     ]
    }
   ],
   "source": [
    "chronic_df = df[['ADDEPEV3', '_CASTHM1', 'COPD', 'CHCSCNCR', 'CHCOCNCR', 'CNCR', 'CVDCRHD4', 'CVDINFR4', 'CVDSTRK3', 'CVD', 'DIABETE4']]\n",
    "print(chronic_df.shape)"
   ]
  },
  {
   "cell_type": "code",
   "execution_count": 90,
   "id": "84b3219f",
   "metadata": {},
   "outputs": [
    {
     "data": {
      "text/html": [
       "<div>\n",
       "<style scoped>\n",
       "    .dataframe tbody tr th:only-of-type {\n",
       "        vertical-align: middle;\n",
       "    }\n",
       "\n",
       "    .dataframe tbody tr th {\n",
       "        vertical-align: top;\n",
       "    }\n",
       "\n",
       "    .dataframe thead th {\n",
       "        text-align: right;\n",
       "    }\n",
       "</style>\n",
       "<table border=\"1\" class=\"dataframe\">\n",
       "  <thead>\n",
       "    <tr style=\"text-align: right;\">\n",
       "      <th></th>\n",
       "      <th>index</th>\n",
       "      <th>0</th>\n",
       "    </tr>\n",
       "  </thead>\n",
       "  <tbody>\n",
       "    <tr>\n",
       "      <th>0</th>\n",
       "      <td>ADDEPEV3</td>\n",
       "      <td>13</td>\n",
       "    </tr>\n",
       "    <tr>\n",
       "      <th>1</th>\n",
       "      <td>_CASTHM1</td>\n",
       "      <td>0</td>\n",
       "    </tr>\n",
       "    <tr>\n",
       "      <th>2</th>\n",
       "      <td>COPD</td>\n",
       "      <td>11</td>\n",
       "    </tr>\n",
       "    <tr>\n",
       "      <th>3</th>\n",
       "      <td>CHCSCNCR</td>\n",
       "      <td>10</td>\n",
       "    </tr>\n",
       "    <tr>\n",
       "      <th>4</th>\n",
       "      <td>CHCOCNCR</td>\n",
       "      <td>12</td>\n",
       "    </tr>\n",
       "    <tr>\n",
       "      <th>5</th>\n",
       "      <td>CNCR</td>\n",
       "      <td>0</td>\n",
       "    </tr>\n",
       "    <tr>\n",
       "      <th>6</th>\n",
       "      <td>CVDCRHD4</td>\n",
       "      <td>10</td>\n",
       "    </tr>\n",
       "    <tr>\n",
       "      <th>7</th>\n",
       "      <td>CVDINFR4</td>\n",
       "      <td>12</td>\n",
       "    </tr>\n",
       "    <tr>\n",
       "      <th>8</th>\n",
       "      <td>CVDSTRK3</td>\n",
       "      <td>13</td>\n",
       "    </tr>\n",
       "    <tr>\n",
       "      <th>9</th>\n",
       "      <td>CVD</td>\n",
       "      <td>0</td>\n",
       "    </tr>\n",
       "    <tr>\n",
       "      <th>10</th>\n",
       "      <td>DIABETE4</td>\n",
       "      <td>12</td>\n",
       "    </tr>\n",
       "  </tbody>\n",
       "</table>\n",
       "</div>"
      ],
      "text/plain": [
       "       index   0\n",
       "0   ADDEPEV3  13\n",
       "1   _CASTHM1   0\n",
       "2       COPD  11\n",
       "3   CHCSCNCR  10\n",
       "4   CHCOCNCR  12\n",
       "5       CNCR   0\n",
       "6   CVDCRHD4  10\n",
       "7   CVDINFR4  12\n",
       "8   CVDSTRK3  13\n",
       "9        CVD   0\n",
       "10  DIABETE4  12"
      ]
     },
     "execution_count": 90,
     "metadata": {},
     "output_type": "execute_result"
    }
   ],
   "source": [
    "# Missing value analysis in the chronic_df\n",
    "# list all the columns and number of missing values in that column\n",
    "missing_cols = chronic_df.isna().sum().reset_index()\n",
    "missing_cols"
   ]
  },
  {
   "attachments": {},
   "cell_type": "markdown",
   "id": "4f5765e9",
   "metadata": {},
   "source": [
    "Seeing that there are only few missing values in these columns (<0.1%), we simply drop the associated rows."
   ]
  },
  {
   "cell_type": "code",
   "execution_count": 91,
   "id": "bf7e4be4",
   "metadata": {},
   "outputs": [],
   "source": [
    "df.dropna(subset=['ADDEPEV3', '_CASTHM1', 'COPD', 'CHCSCNCR', 'CHCOCNCR', 'CVDCRHD4', 'CVDINFR4', 'CVDSTRK3', 'DIABETE4'], inplace=True)"
   ]
  },
  {
   "attachments": {},
   "cell_type": "markdown",
   "id": "53378ce8",
   "metadata": {},
   "source": [
    "##### 1.3 Handling missing feature values"
   ]
  },
  {
   "cell_type": "code",
   "execution_count": 92,
   "id": "f41d8aea",
   "metadata": {},
   "outputs": [],
   "source": [
    "chronic_conditions = ['ADDEPEV3', '_CASTHM1', 'COPD', 'CNCR', 'CVD', \n",
    "    'DIABETE4']"
   ]
  },
  {
   "cell_type": "code",
   "execution_count": 93,
   "id": "7904b799",
   "metadata": {},
   "outputs": [
    {
     "data": {
      "text/html": [
       "<div>\n",
       "<style scoped>\n",
       "    .dataframe tbody tr th:only-of-type {\n",
       "        vertical-align: middle;\n",
       "    }\n",
       "\n",
       "    .dataframe tbody tr th {\n",
       "        vertical-align: top;\n",
       "    }\n",
       "\n",
       "    .dataframe thead th {\n",
       "        text-align: right;\n",
       "    }\n",
       "</style>\n",
       "<table border=\"1\" class=\"dataframe\">\n",
       "  <thead>\n",
       "    <tr style=\"text-align: right;\">\n",
       "      <th></th>\n",
       "      <th>index</th>\n",
       "      <th>0</th>\n",
       "    </tr>\n",
       "  </thead>\n",
       "  <tbody>\n",
       "    <tr>\n",
       "      <th>0</th>\n",
       "      <td>CHCKDNY2</td>\n",
       "      <td>2</td>\n",
       "    </tr>\n",
       "    <tr>\n",
       "      <th>1</th>\n",
       "      <td>_RACE</td>\n",
       "      <td>3</td>\n",
       "    </tr>\n",
       "    <tr>\n",
       "      <th>2</th>\n",
       "      <td>_RACEG21</td>\n",
       "      <td>3</td>\n",
       "    </tr>\n",
       "    <tr>\n",
       "      <th>3</th>\n",
       "      <td>_RACEGR3</td>\n",
       "      <td>3</td>\n",
       "    </tr>\n",
       "    <tr>\n",
       "      <th>4</th>\n",
       "      <td>CHECKUP1</td>\n",
       "      <td>6</td>\n",
       "    </tr>\n",
       "    <tr>\n",
       "      <th>...</th>\n",
       "      <td>...</td>\n",
       "      <td>...</td>\n",
       "    </tr>\n",
       "    <tr>\n",
       "      <th>183</th>\n",
       "      <td>COLGSEX</td>\n",
       "      <td>856873</td>\n",
       "    </tr>\n",
       "    <tr>\n",
       "      <th>184</th>\n",
       "      <td>COLGHOUS</td>\n",
       "      <td>856873</td>\n",
       "    </tr>\n",
       "    <tr>\n",
       "      <th>185</th>\n",
       "      <td>WORKCFS</td>\n",
       "      <td>856941</td>\n",
       "    </tr>\n",
       "    <tr>\n",
       "      <th>186</th>\n",
       "      <td>HAVECFS</td>\n",
       "      <td>856941</td>\n",
       "    </tr>\n",
       "    <tr>\n",
       "      <th>187</th>\n",
       "      <td>TOLDCFS</td>\n",
       "      <td>856941</td>\n",
       "    </tr>\n",
       "  </tbody>\n",
       "</table>\n",
       "<p>188 rows × 2 columns</p>\n",
       "</div>"
      ],
      "text/plain": [
       "        index       0\n",
       "0    CHCKDNY2       2\n",
       "1       _RACE       3\n",
       "2    _RACEG21       3\n",
       "3    _RACEGR3       3\n",
       "4    CHECKUP1       6\n",
       "..        ...     ...\n",
       "183   COLGSEX  856873\n",
       "184  COLGHOUS  856873\n",
       "185   WORKCFS  856941\n",
       "186   HAVECFS  856941\n",
       "187   TOLDCFS  856941\n",
       "\n",
       "[188 rows x 2 columns]"
      ]
     },
     "execution_count": 93,
     "metadata": {},
     "output_type": "execute_result"
    }
   ],
   "source": [
    "missing_values_cols = df.isna().sum()\n",
    "missing_values_cols = missing_values_cols[missing_values_cols!=0].sort_values()\n",
    "\n",
    "missing_values_cols.reset_index()"
   ]
  },
  {
   "cell_type": "code",
   "execution_count": 94,
   "id": "24bfb0c6",
   "metadata": {},
   "outputs": [
    {
     "data": {
      "text/plain": [
       "171388.2"
      ]
     },
     "execution_count": 94,
     "metadata": {},
     "output_type": "execute_result"
    }
   ],
   "source": [
    "threshold = 0.2 * len(df)\n",
    "threshold"
   ]
  },
  {
   "attachments": {},
   "cell_type": "markdown",
   "id": "14ba630e",
   "metadata": {},
   "source": [
    "Since we already have the condition of trimming the data frame to 20 features, We will drop features entirely if we're missing their values in more than 20% of the rows."
   ]
  },
  {
   "cell_type": "code",
   "execution_count": 95,
   "id": "d80e7f1d",
   "metadata": {},
   "outputs": [
    {
     "data": {
      "text/plain": [
       "Index(['_CHISPNC', 'SAFETIME', 'CELLFON5', 'PVTRESD3', 'CTELNUM1', 'CADULT1',\n",
       "       'CSTATE1', 'HHADULT', 'CELLSEX', 'LANDLINE',\n",
       "       ...\n",
       "       'CSRVCTL2', 'PRIRHEPC', 'TRETHEPC', 'HAVEHEPC', 'MEDSHEPB', 'COLGSEX',\n",
       "       'COLGHOUS', 'WORKCFS', 'HAVECFS', 'TOLDCFS'],\n",
       "      dtype='object', length=132)"
      ]
     },
     "execution_count": 95,
     "metadata": {},
     "output_type": "execute_result"
    }
   ],
   "source": [
    "drop_features = missing_values_cols[missing_values_cols > threshold].index\n",
    "drop_features"
   ]
  },
  {
   "cell_type": "code",
   "execution_count": 96,
   "id": "276f196f",
   "metadata": {},
   "outputs": [
    {
     "data": {
      "text/plain": [
       "132"
      ]
     },
     "execution_count": 96,
     "metadata": {},
     "output_type": "execute_result"
    }
   ],
   "source": [
    "len(drop_features)"
   ]
  },
  {
   "attachments": {},
   "cell_type": "markdown",
   "id": "6c4715aa",
   "metadata": {},
   "source": [
    "Dropping 132 features still leaves us with plenty of columns to work with."
   ]
  },
  {
   "cell_type": "code",
   "execution_count": 97,
   "id": "d53e64ad",
   "metadata": {},
   "outputs": [],
   "source": [
    "# Dropping the features having more than 20% of missing values\n",
    "df = df.drop(drop_features, axis = 1)"
   ]
  },
  {
   "attachments": {},
   "cell_type": "markdown",
   "id": "cc25a036",
   "metadata": {},
   "source": [
    "For the rest of the dataframe, we will impute the missing values with each columns' mean."
   ]
  },
  {
   "cell_type": "code",
   "execution_count": 98,
   "id": "9f201e90",
   "metadata": {},
   "outputs": [
    {
     "data": {
      "text/plain": [
       "Index(['CHCKDNY2', '_RACE', '_RACEG21', '_RACEGR3', 'CHECKUP1', '_PRACE1',\n",
       "       '_MRACE1', 'MENTHLTH', 'EDUCA', 'RENTHOM1', 'GENHLTH', 'PHYSHLTH',\n",
       "       'MARITAL', 'CPDEMO1B', 'VETERAN3', 'QSTLANG', 'EMPLOY1', '_MICHD',\n",
       "       'CHILDREN', '_URBSTAT', '_METSTAT', 'INCOME2', 'WEIGHT2', 'EXERANY2',\n",
       "       'HEIGHT3', 'DEAF', 'BLIND', 'DECIDE', 'DIFFWALK', 'DIFFDRES',\n",
       "       'DIFFALON', 'SMOKE100', 'USENOW3', 'ALCDAY5', 'HTM4', 'HTIN4',\n",
       "       'FLUSHOT7', 'FRUIT2', 'PNEUVAC4', 'FRUITJU2', 'FVGREEN1', 'WTKG3',\n",
       "       'HIVTST7', 'FRENCHF1', 'POTATOE1', 'VEGETAB2', 'FTJUDA2_', 'FRUTDA2_',\n",
       "       '_BMI5', '_BMI5CAT', 'GRENDA1_', 'FRNCHDA_', 'POTADA1_', 'VEGEDA2_',\n",
       "       '_FRUTSU1', '_VEGESU1'],\n",
       "      dtype='object')"
      ]
     },
     "execution_count": 98,
     "metadata": {},
     "output_type": "execute_result"
    }
   ],
   "source": [
    "impute_features = missing_values_cols[missing_values_cols < threshold].index\n",
    "impute_features"
   ]
  },
  {
   "cell_type": "code",
   "execution_count": 99,
   "id": "32dcaaf5",
   "metadata": {},
   "outputs": [],
   "source": [
    "df = df.dropna(subset = impute_features, axis = 0)"
   ]
  },
  {
   "cell_type": "code",
   "execution_count": 100,
   "id": "c8ef726e",
   "metadata": {},
   "outputs": [
    {
     "data": {
      "text/html": [
       "<div>\n",
       "<style scoped>\n",
       "    .dataframe tbody tr th:only-of-type {\n",
       "        vertical-align: middle;\n",
       "    }\n",
       "\n",
       "    .dataframe tbody tr th {\n",
       "        vertical-align: top;\n",
       "    }\n",
       "\n",
       "    .dataframe thead th {\n",
       "        text-align: right;\n",
       "    }\n",
       "</style>\n",
       "<table border=\"1\" class=\"dataframe\">\n",
       "  <thead>\n",
       "    <tr style=\"text-align: right;\">\n",
       "      <th></th>\n",
       "      <th>index</th>\n",
       "      <th>0</th>\n",
       "    </tr>\n",
       "  </thead>\n",
       "  <tbody>\n",
       "  </tbody>\n",
       "</table>\n",
       "</div>"
      ],
      "text/plain": [
       "Empty DataFrame\n",
       "Columns: [index, 0]\n",
       "Index: []"
      ]
     },
     "execution_count": 100,
     "metadata": {},
     "output_type": "execute_result"
    }
   ],
   "source": [
    "# Confirm no data is still missing\n",
    "still_missing_values_cols = df.isna().sum()\n",
    "still_missing_values_cols = still_missing_values_cols[still_missing_values_cols!=0].sort_values()\n",
    "still_missing_values_cols.reset_index()"
   ]
  },
  {
   "attachments": {},
   "cell_type": "markdown",
   "id": "af65a7ee",
   "metadata": {},
   "source": [
    "##### 1.4 Creating our response columns for comorbidity"
   ]
  },
  {
   "attachments": {},
   "cell_type": "markdown",
   "id": "5fe7dbcc",
   "metadata": {},
   "source": [
    "Create the binary and multiclass response column."
   ]
  },
  {
   "cell_type": "code",
   "execution_count": 101,
   "id": "e24f9644",
   "metadata": {},
   "outputs": [],
   "source": [
    "# Creating a subset of chronic conditions\n",
    "cf = df[chronic_conditions]"
   ]
  },
  {
   "cell_type": "code",
   "execution_count": 102,
   "id": "c870213e",
   "metadata": {},
   "outputs": [],
   "source": [
    "# Replace values of 1 and 2 with 1 and rest with 0\n",
    "cf[\"DIABETE4\"] = cf[\"DIABETE4\"].apply(lambda x: 1 if (x == 1) | (x == 2) else 0)\n",
    "\n",
    "# Replace values of 1 with 1 and rest with 0 in other features\n",
    "for col in chronic_conditions:\n",
    "    cf[col] = cf[col].apply(lambda x: 1 if x == 1 else 0)"
   ]
  },
  {
   "cell_type": "code",
   "execution_count": 103,
   "id": "322d4f39",
   "metadata": {},
   "outputs": [
    {
     "data": {
      "text/plain": [
       "count     632438\n",
       "unique         2\n",
       "top            0\n",
       "freq      338562\n",
       "Name: CMB_binary, dtype: int64"
      ]
     },
     "execution_count": 103,
     "metadata": {},
     "output_type": "execute_result"
    }
   ],
   "source": [
    "# Determine the number of chronic conditions an individual has\n",
    "num_conditions = cf.sum(axis=1)\n",
    "\n",
    "# Creating a new response column with the num of conditions\n",
    "df['CMB_multiclass'] = pd.cut(num_conditions, bins=[0, 1, 2, 3, float('inf')], labels=[0, 1, 2, '3+'])\n",
    "\n",
    "### Create two additional categorical columns - CMB_binary, CMN_multi\n",
    "df['CMB_binary'] = pd.cut(num_conditions, bins=[0, 1, float('inf')], labels=[0, 1])\n",
    "df['CMB_binary'].describe()\n"
   ]
  },
  {
   "cell_type": "code",
   "execution_count": 104,
   "id": "54222aa5",
   "metadata": {},
   "outputs": [],
   "source": [
    "response_cols = [\"CMB_binary\", \"CMB_multiclass\"]"
   ]
  },
  {
   "cell_type": "code",
   "execution_count": 105,
   "id": "e0e1bc8f",
   "metadata": {},
   "outputs": [
    {
     "data": {
      "text/plain": [
       "CMB_binary        22315\n",
       "CMB_multiclass    22315\n",
       "dtype: int64"
      ]
     },
     "execution_count": 105,
     "metadata": {},
     "output_type": "execute_result"
    }
   ],
   "source": [
    "df[response_cols].isna().sum()"
   ]
  },
  {
   "cell_type": "code",
   "execution_count": 106,
   "id": "680da9e7",
   "metadata": {},
   "outputs": [
    {
     "data": {
      "text/plain": [
       "CMB_binary        0\n",
       "CMB_multiclass    0\n",
       "dtype: int64"
      ]
     },
     "execution_count": 106,
     "metadata": {},
     "output_type": "execute_result"
    }
   ],
   "source": [
    "df = df.dropna(subset = response_cols, axis = 0)\n",
    "df[response_cols].isna().sum()"
   ]
  },
  {
   "attachments": {},
   "cell_type": "markdown",
   "id": "4a8ec3dc",
   "metadata": {},
   "source": [
    "We now have response columns created and in a workable list. And, we can now avoid using the columns these responses were derived from in our feature space."
   ]
  },
  {
   "attachments": {},
   "cell_type": "markdown",
   "id": "64c3bcd0",
   "metadata": {},
   "source": [
    "#### 1.5 Identifying our feature space"
   ]
  },
  {
   "attachments": {},
   "cell_type": "markdown",
   "id": "91f9918a",
   "metadata": {},
   "source": [
    "* '_STATE' = State\n",
    "* 'INCOME2' = Annual household income from all sources\n",
    "* '_AGE_G' = Six-level imputed age category\n",
    "* 'MARITAL' = Marital status\n",
    "* '_SEX'= Calculated sex variable\n",
    "* '_EDUCAG' = Level of education completed\n",
    "* '_RACE' = Race/ethnicity categories\n",
    "* '_SMOKE100' =  Have you smoked at least 100 cigarettes in your entire life? \n",
    "* ' _BMI5CAT ' =  Four-categories of Body Mass Index (BMI)\n",
    "* '_MENT14D' = 3 level not good mental health status: 0 days, 1-13 days, 14-30 days\n",
    "* '_PHYS14D' = 3 level not good physical health status: 0 days, 1-13 days, 14-30 days\n",
    "* '_URBSTAT' = Urban/Rural status\n",
    "* 'VETERAN3' = Have you ever served on active duty in the United States Armed Forces, either in the regular military or in a National Guard or military reserve unit?\n",
    "* 'RENTHOM1' = Do you own or rent your home?\n",
    "* 'CHECKUP1' = About how long has it been since you last visited a doctor for a routine checkup?  [A routine checkup is a general physical exam, not an exam for a specific injury, illness, or condition.]\n",
    "* 'CHCKDNY2' = Not including kidney stones, bladder infection or incontinence, were you ever told you had kidney disease?\n",
    "* 'EXERANY2' = During the past month, other than your regular job, did you participate in any physical activities or exercises such as running, calisthenics, golf, gardening, or walking for exercise?\n",
    "* '_FRTLT1A' = Consume Fruit 1 or more times per day \n",
    "* '_VEGLT1A' = Consume Vegetables 1 or more times per day \n",
    "* 'FLUSHOT7' = During the past 12 months, have you had either flu vaccine that was sprayed in your nose or flu shot injected into your arm?<br>\n",
    "\n",
    "We only need 20, but are starting with 22, so that we have a 10% buffer to delete problematic columns."
   ]
  },
  {
   "cell_type": "code",
   "execution_count": 107,
   "id": "ee8ae6fd",
   "metadata": {},
   "outputs": [],
   "source": [
    "feature_cols = ['_STATE', 'INCOME2', '_AGE_G', 'MARITAL', '_SEX', '_EDUCAG', '_RACE', 'SMOKE100',  '_BMI5CAT',\n",
    "    '_MENT14D', '_PHYS14D', '_URBSTAT', 'VETERAN3', 'RENTHOM1', 'CHECKUP1', 'CHCKDNY2', 'EXERANY2', '_FRTLT1A', '_VEGLT1A', 'FLUSHOT7']"
   ]
  },
  {
   "attachments": {},
   "cell_type": "markdown",
   "id": "855b18bc",
   "metadata": {},
   "source": [
    "## Analysis Part 1:\n",
    "\n",
    "### 2. Exploratory Data Analysis"
   ]
  },
  {
   "cell_type": "code",
   "execution_count": 108,
   "id": "76e828ea",
   "metadata": {},
   "outputs": [],
   "source": [
    "# Check for INCOME 2\n",
    "demographic_cols = ['_AGE_G', 'MARITAL', '_SEX', '_EDUCAG', '_RACE', '_URBSTAT', 'INCOME2']"
   ]
  },
  {
   "cell_type": "code",
   "execution_count": 109,
   "id": "4418e3f8",
   "metadata": {},
   "outputs": [
    {
     "data": {
      "text/html": [
       "<div>\n",
       "<style scoped>\n",
       "    .dataframe tbody tr th:only-of-type {\n",
       "        vertical-align: middle;\n",
       "    }\n",
       "\n",
       "    .dataframe tbody tr th {\n",
       "        vertical-align: top;\n",
       "    }\n",
       "\n",
       "    .dataframe thead th {\n",
       "        text-align: right;\n",
       "    }\n",
       "</style>\n",
       "<table border=\"1\" class=\"dataframe\">\n",
       "  <thead>\n",
       "    <tr style=\"text-align: right;\">\n",
       "      <th></th>\n",
       "      <th>ADDEPEV3</th>\n",
       "      <th>_CASTHM1</th>\n",
       "      <th>COPD</th>\n",
       "      <th>CNCR</th>\n",
       "      <th>CVD</th>\n",
       "      <th>DIABETE4</th>\n",
       "      <th>_AGE_G</th>\n",
       "      <th>MARITAL</th>\n",
       "      <th>_SEX</th>\n",
       "      <th>_EDUCAG</th>\n",
       "      <th>_RACE</th>\n",
       "      <th>_URBSTAT</th>\n",
       "      <th>INCOME2</th>\n",
       "    </tr>\n",
       "  </thead>\n",
       "  <tbody>\n",
       "    <tr>\n",
       "      <th>0</th>\n",
       "      <td>0</td>\n",
       "      <td>1</td>\n",
       "      <td>0</td>\n",
       "      <td>0</td>\n",
       "      <td>0</td>\n",
       "      <td>0</td>\n",
       "      <td>6.00</td>\n",
       "      <td>2.00</td>\n",
       "      <td>2.00</td>\n",
       "      <td>1.00</td>\n",
       "      <td>2.00</td>\n",
       "      <td>1.00</td>\n",
       "      <td>3.00</td>\n",
       "    </tr>\n",
       "    <tr>\n",
       "      <th>1</th>\n",
       "      <td>0</td>\n",
       "      <td>1</td>\n",
       "      <td>0</td>\n",
       "      <td>0</td>\n",
       "      <td>0</td>\n",
       "      <td>0</td>\n",
       "      <td>6.00</td>\n",
       "      <td>1.00</td>\n",
       "      <td>2.00</td>\n",
       "      <td>3.00</td>\n",
       "      <td>1.00</td>\n",
       "      <td>1.00</td>\n",
       "      <td>5.00</td>\n",
       "    </tr>\n",
       "    <tr>\n",
       "      <th>2</th>\n",
       "      <td>0</td>\n",
       "      <td>1</td>\n",
       "      <td>0</td>\n",
       "      <td>0</td>\n",
       "      <td>0</td>\n",
       "      <td>1</td>\n",
       "      <td>6.00</td>\n",
       "      <td>3.00</td>\n",
       "      <td>2.00</td>\n",
       "      <td>4.00</td>\n",
       "      <td>2.00</td>\n",
       "      <td>1.00</td>\n",
       "      <td>7.00</td>\n",
       "    </tr>\n",
       "    <tr>\n",
       "      <th>4</th>\n",
       "      <td>0</td>\n",
       "      <td>1</td>\n",
       "      <td>0</td>\n",
       "      <td>0</td>\n",
       "      <td>0</td>\n",
       "      <td>0</td>\n",
       "      <td>6.00</td>\n",
       "      <td>1.00</td>\n",
       "      <td>2.00</td>\n",
       "      <td>3.00</td>\n",
       "      <td>1.00</td>\n",
       "      <td>2.00</td>\n",
       "      <td>99.00</td>\n",
       "    </tr>\n",
       "    <tr>\n",
       "      <th>6</th>\n",
       "      <td>0</td>\n",
       "      <td>0</td>\n",
       "      <td>1</td>\n",
       "      <td>0</td>\n",
       "      <td>0</td>\n",
       "      <td>1</td>\n",
       "      <td>6.00</td>\n",
       "      <td>2.00</td>\n",
       "      <td>1.00</td>\n",
       "      <td>4.00</td>\n",
       "      <td>1.00</td>\n",
       "      <td>2.00</td>\n",
       "      <td>7.00</td>\n",
       "    </tr>\n",
       "  </tbody>\n",
       "</table>\n",
       "</div>"
      ],
      "text/plain": [
       "   ADDEPEV3  _CASTHM1  COPD  CNCR  CVD  DIABETE4  _AGE_G  MARITAL  _SEX  \\\n",
       "0         0         1     0     0    0         0    6.00     2.00  2.00   \n",
       "1         0         1     0     0    0         0    6.00     1.00  2.00   \n",
       "2         0         1     0     0    0         1    6.00     3.00  2.00   \n",
       "4         0         1     0     0    0         0    6.00     1.00  2.00   \n",
       "6         0         0     1     0    0         1    6.00     2.00  1.00   \n",
       "\n",
       "   _EDUCAG  _RACE  _URBSTAT  INCOME2  \n",
       "0     1.00   2.00      1.00     3.00  \n",
       "1     3.00   1.00      1.00     5.00  \n",
       "2     4.00   2.00      1.00     7.00  \n",
       "4     3.00   1.00      2.00    99.00  \n",
       "6     4.00   1.00      2.00     7.00  "
      ]
     },
     "execution_count": 109,
     "metadata": {},
     "output_type": "execute_result"
    }
   ],
   "source": [
    "cf[demographic_cols] = df[demographic_cols]\n",
    "cf.head() "
   ]
  },
  {
   "attachments": {},
   "cell_type": "markdown",
   "id": "421ef0af",
   "metadata": {},
   "source": [
    "#### Crosstabs for exploring trends with demographics  "
   ]
  },
  {
   "cell_type": "code",
   "execution_count": 110,
   "id": "13a8c0ff",
   "metadata": {},
   "outputs": [
    {
     "data": {
      "text/plain": [
       "Index(['STATE_CODE', 'FMONTH', 'IDATE', 'IMONTH', 'IDAY', 'IYEAR', 'DISPCODE',\n",
       "       'SEQNO', '_PSU', 'SEXVAR',\n",
       "       ...\n",
       "       '_VEGESU1', '_FRTLT1A', '_VEGLT1A', '_FRT16A', '_VEG23A', '_FRUITE1',\n",
       "       'CNCR', 'CVD', 'CMB_multiclass', 'CMB_binary'],\n",
       "      dtype='object', length=120)"
      ]
     },
     "execution_count": 110,
     "metadata": {},
     "output_type": "execute_result"
    }
   ],
   "source": [
    "df = df.rename(columns = {\"_CASTHM1\" :\"ASTHMA\", \"_STATE\" : \"STATE_CODE\"})\n",
    "df.columns"
   ]
  },
  {
   "cell_type": "code",
   "execution_count": 111,
   "id": "0959ebe3",
   "metadata": {},
   "outputs": [],
   "source": [
    "def crosstab_cond_demographic(demographic):\n",
    "    for condition in chronic_conditions:\n",
    "        print(\"\\n Crosstab of {} vs {}\".format(condition, demographic))\n",
    "        ct = pd.crosstab(cf[demographic], cf[condition])\n",
    "        df_ct = ct.reset_index()\n",
    "        print(df_ct)"
   ]
  },
  {
   "cell_type": "code",
   "execution_count": 112,
   "id": "cbe4d673",
   "metadata": {},
   "outputs": [],
   "source": [
    "def plot_cond_demographic(dem, xtick_labels):\n",
    "    freq_by_dem = cf.groupby(dem)[chronic_conditions].sum()\n",
    "\n",
    "    # Set the color palette for the plot\n",
    "    colors = sns.color_palette('coolwarm', n_colors=len(chronic_conditions))\n",
    "    sns.set_palette(colors)\n",
    "\n",
    "    freq_by_dem.plot(kind='bar', rot=0)\n",
    "\n",
    "    handles, labels = plt.gca().get_legend_handles_labels()\n",
    "    plt.legend(handles, labels, title='Conditions', bbox_to_anchor=(1,1))\n",
    "    plt.xticks(ticks = np.arange(len(xtick_labels)), labels=xtick_labels)\n",
    "\n",
    "    plt.show()"
   ]
  },
  {
   "attachments": {},
   "cell_type": "markdown",
   "id": "07e3efba",
   "metadata": {},
   "source": [
    "#### 2.1 Distribution of chronic conditions vs demographics"
   ]
  },
  {
   "attachments": {},
   "cell_type": "markdown",
   "id": "3b50cfe0",
   "metadata": {},
   "source": [
    "##### (1) Chronic conditions vs AGE"
   ]
  },
  {
   "cell_type": "code",
   "execution_count": 113,
   "id": "55e5ce6c",
   "metadata": {},
   "outputs": [
    {
     "name": "stdout",
     "output_type": "stream",
     "text": [
      "\n",
      " Crosstab of ADDEPEV3 vs _AGE_G\n",
      "ADDEPEV3  _AGE_G       0      1\n",
      "0           1.00   26365   9476\n",
      "1           2.00   47043  16967\n",
      "2           3.00   59353  18793\n",
      "3           4.00   72098  21099\n",
      "4           5.00   99491  28183\n",
      "5           6.00  197507  36063\n",
      "\n",
      " Crosstab of _CASTHM1 vs _AGE_G\n",
      "_CASTHM1  _AGE_G      0       1\n",
      "0           1.00   2098   33743\n",
      "1           2.00   3689   60321\n",
      "2           3.00   4801   73345\n",
      "3           4.00   6766   86431\n",
      "4           5.00  10320  117354\n",
      "5           6.00  16905  216665\n",
      "\n",
      " Crosstab of COPD vs _AGE_G\n",
      "COPD  _AGE_G       0      1\n",
      "0       1.00   35241    600\n",
      "1       2.00   62440   1570\n",
      "2       3.00   75285   2861\n",
      "3       4.00   87507   5690\n",
      "4       5.00  114395  13279\n",
      "5       6.00  204403  29167\n",
      "\n",
      " Crosstab of CNCR vs _AGE_G\n",
      "CNCR  _AGE_G       0      1\n",
      "0       1.00   35473    368\n",
      "1       2.00   62414   1596\n",
      "2       3.00   74149   3997\n",
      "3       4.00   83745   9452\n",
      "4       5.00  104664  23010\n",
      "5       6.00  153720  79850\n",
      "\n",
      " Crosstab of CVD vs _AGE_G\n",
      "CVD  _AGE_G       0      1\n",
      "0      1.00   35511    330\n",
      "1      2.00   63050    960\n",
      "2      3.00   75813   2333\n",
      "3      4.00   87070   6127\n",
      "4      5.00  112533  15141\n",
      "5      6.00  184355  49215\n",
      "\n",
      " Crosstab of DIABETE4 vs _AGE_G\n",
      "DIABETE4  _AGE_G       0      1\n",
      "0           1.00   35250    591\n",
      "1           2.00   61720   2290\n",
      "2           3.00   72384   5762\n",
      "3           4.00   81441  11756\n",
      "4           5.00  105182  22492\n",
      "5           6.00  184047  49523\n"
     ]
    }
   ],
   "source": [
    "crosstab_cond_demographic(\"_AGE_G\")"
   ]
  },
  {
   "cell_type": "code",
   "execution_count": 114,
   "id": "13a1cb7c",
   "metadata": {},
   "outputs": [
    {
     "data": {
      "image/png": "[encoded data removed]",
      "text/plain": [
       "<Figure size 792x576 with 1 Axes>"
      ]
     },
     "metadata": {},
     "output_type": "display_data"
    }
   ],
   "source": [
    "labels = [\"18-24\", \"25-34\", \"35-44\", \"45-54\", \"55-64\", \"65+\"]\n",
    "plot_cond_demographic(\"_AGE_G\", labels)"
   ]
  },
  {
   "attachments": {},
   "cell_type": "markdown",
   "id": "b8204801",
   "metadata": {},
   "source": [
    "##### (2) Chronic conditions VS Gender"
   ]
  },
  {
   "cell_type": "code",
   "execution_count": 115,
   "id": "30256727",
   "metadata": {},
   "outputs": [
    {
     "name": "stdout",
     "output_type": "stream",
     "text": [
      "\n",
      " Crosstab of ADDEPEV3 vs _SEX\n",
      "ADDEPEV3  _SEX       0      1\n",
      "0         1.00  256740  44457\n",
      "1         2.00  245117  86124\n",
      "\n",
      " Crosstab of _CASTHM1 vs _SEX\n",
      "_CASTHM1  _SEX      0       1\n",
      "0         1.00  13743  287454\n",
      "1         2.00  30836  300405\n",
      "\n",
      " Crosstab of COPD vs _SEX\n",
      "COPD  _SEX       0      1\n",
      "0     1.00  278938  22259\n",
      "1     2.00  300333  30908\n",
      "\n",
      " Crosstab of CNCR vs _SEX\n",
      "CNCR  _SEX       0      1\n",
      "0     1.00  248806  52391\n",
      "1     2.00  265359  65882\n",
      "\n",
      " Crosstab of CVD vs _SEX\n",
      "CVD  _SEX       0      1\n",
      "0    1.00  260410  40787\n",
      "1    2.00  297922  33319\n",
      "\n",
      " Crosstab of DIABETE4 vs _SEX\n",
      "DIABETE4  _SEX       0      1\n",
      "0         1.00  257672  43525\n",
      "1         2.00  282352  48889\n"
     ]
    }
   ],
   "source": [
    "crosstab_cond_demographic(\"_SEX\")"
   ]
  },
  {
   "cell_type": "code",
   "execution_count": 116,
   "id": "4009783f",
   "metadata": {},
   "outputs": [
    {
     "data": {
      "image/png": "[encoded data removed]",
      "text/plain": [
       "<Figure size 792x576 with 1 Axes>"
      ]
     },
     "metadata": {},
     "output_type": "display_data"
    }
   ],
   "source": [
    "labels = [\"Male\", \"Female\"]\n",
    "plot_cond_demographic(\"_SEX\", labels)"
   ]
  },
  {
   "attachments": {},
   "cell_type": "markdown",
   "id": "8e86a16f",
   "metadata": {},
   "source": [
    "##### (3) Distribution of chronic conditions VS Marital"
   ]
  },
  {
   "cell_type": "code",
   "execution_count": 117,
   "id": "3df94991",
   "metadata": {},
   "outputs": [
    {
     "name": "stdout",
     "output_type": "stream",
     "text": [
      "\n",
      " Crosstab of ADDEPEV3 vs MARITAL\n",
      "ADDEPEV3  MARITAL       0      1\n",
      "0            1.00  279389  54216\n",
      "1            2.00   60212  24466\n",
      "2            3.00   58007  13304\n",
      "3            4.00    7630   4075\n",
      "4            5.00   77822  27232\n",
      "5            6.00   16156   6707\n",
      "6            9.00    2641    581\n",
      "\n",
      " Crosstab of _CASTHM1 vs MARITAL\n",
      "_CASTHM1  MARITAL      0       1\n",
      "0            1.00  18887  314718\n",
      "1            2.00   8572   76106\n",
      "2            3.00   6190   65121\n",
      "3            4.00   1399   10306\n",
      "4            5.00   7551   97503\n",
      "5            6.00   1778   21085\n",
      "6            9.00    202    3020\n",
      "\n",
      " Crosstab of COPD vs MARITAL\n",
      "COPD  MARITAL       0      1\n",
      "0        1.00  312420  21185\n",
      "1        2.00   72782  11896\n",
      "2        3.00   60270  11041\n",
      "3        4.00   10093   1612\n",
      "4        5.00   99311   5743\n",
      "5        6.00   21407   1456\n",
      "6        9.00    2988    234\n",
      "\n",
      " Crosstab of CNCR vs MARITAL\n",
      "CNCR  MARITAL       0      1\n",
      "0        1.00  267716  65889\n",
      "1        2.00   67717  16961\n",
      "2        3.00   48135  23176\n",
      "3        4.00   10148   1557\n",
      "4        5.00   96942   8112\n",
      "5        6.00   20753   2110\n",
      "6        9.00    2754    468\n",
      "\n",
      " Crosstab of CVD vs MARITAL\n",
      "CVD  MARITAL       0      1\n",
      "0       1.00  298419  35186\n",
      "1       2.00   71398  13280\n",
      "2       3.00   55115  16196\n",
      "3       4.00    9973   1732\n",
      "4       5.00   98998   6056\n",
      "5       6.00   21512   1351\n",
      "6       9.00    2917    305\n",
      "\n",
      " Crosstab of DIABETE4 vs MARITAL\n",
      "DIABETE4  MARITAL       0      1\n",
      "0            1.00  286803  46802\n",
      "1            2.00   69502  15176\n",
      "2            3.00   55642  15669\n",
      "3            4.00    9428   2277\n",
      "4            5.00   94901  10153\n",
      "5            6.00   20866   1997\n",
      "6            9.00    2882    340\n"
     ]
    }
   ],
   "source": [
    "crosstab_cond_demographic(\"MARITAL\")"
   ]
  },
  {
   "cell_type": "code",
   "execution_count": 118,
   "id": "ad604d84",
   "metadata": {},
   "outputs": [
    {
     "data": {
      "image/png": "[encoded data removed]",
      "text/plain": [
       "<Figure size 792x576 with 1 Axes>"
      ]
     },
     "metadata": {},
     "output_type": "display_data"
    }
   ],
   "source": [
    "labels = [\"Married\", \"Divorced\", \"Not asked\",\"Widowed\", \"Separated\", \"Never Married\", \"Dating\", \"Refused\"]\n",
    "plot_cond_demographic(\"MARITAL\", labels)"
   ]
  },
  {
   "attachments": {},
   "cell_type": "markdown",
   "id": "e6c7c814",
   "metadata": {},
   "source": [
    "##### (4) Distribution of chronic conditions VS Education"
   ]
  },
  {
   "cell_type": "code",
   "execution_count": 119,
   "id": "c66077b3",
   "metadata": {},
   "outputs": [
    {
     "name": "stdout",
     "output_type": "stream",
     "text": [
      "\n",
      " Crosstab of ADDEPEV3 vs _EDUCAG\n",
      "ADDEPEV3  _EDUCAG       0      1\n",
      "0            1.00   24970   8638\n",
      "1            2.00  126121  32534\n",
      "2            3.00  136530  41569\n",
      "3            4.00  213197  47678\n",
      "4            9.00    1039    162\n",
      "\n",
      " Crosstab of _CASTHM1 vs _EDUCAG\n",
      "_CASTHM1  _EDUCAG      0       1\n",
      "0            1.00   4028   29580\n",
      "1            2.00  11761  146894\n",
      "2            3.00  14285  163814\n",
      "3            4.00  14440  246435\n",
      "4            9.00     65    1136\n",
      "\n",
      " Crosstab of COPD vs _EDUCAG\n",
      "COPD  _EDUCAG       0      1\n",
      "0        1.00   27497   6111\n",
      "1        2.00  140766  17889\n",
      "2        3.00  160979  17120\n",
      "3        4.00  248910  11965\n",
      "4        9.00    1119     82\n",
      "\n",
      " Crosstab of CNCR vs _EDUCAG\n",
      "CNCR  _EDUCAG       0      1\n",
      "0        1.00   28411   5197\n",
      "1        2.00  131478  27177\n",
      "2        3.00  144994  33105\n",
      "3        4.00  208265  52610\n",
      "4        9.00    1017    184\n",
      "\n",
      " Crosstab of CVD vs _EDUCAG\n",
      "CVD  _EDUCAG       0      1\n",
      "0       1.00   26968   6640\n",
      "1       2.00  136611  22044\n",
      "2       3.00  155908  22191\n",
      "3       4.00  237784  23091\n",
      "4       9.00    1061    140\n",
      "\n",
      " Crosstab of DIABETE4 vs _EDUCAG\n",
      "DIABETE4  _EDUCAG       0      1\n",
      "0            1.00   25858   7750\n",
      "1            2.00  131756  26899\n",
      "2            3.00  149911  28188\n",
      "3            4.00  231462  29413\n",
      "4            9.00    1037    164\n"
     ]
    }
   ],
   "source": [
    "crosstab_cond_demographic(\"_EDUCAG\")"
   ]
  },
  {
   "cell_type": "code",
   "execution_count": 120,
   "id": "a3ed393a",
   "metadata": {},
   "outputs": [
    {
     "data": {
      "image/png": "[encoded data removed]",
      "text/plain": [
       "<Figure size 792x576 with 1 Axes>"
      ]
     },
     "metadata": {},
     "output_type": "display_data"
    }
   ],
   "source": [
    "labels = [\"< HS\", \"HS\", \"< C/TS\", \"C/TS\", \"Not sure\"]\n",
    "plot_cond_demographic(\"_EDUCAG\", labels)"
   ]
  },
  {
   "attachments": {},
   "cell_type": "markdown",
   "id": "8e9e3e04",
   "metadata": {},
   "source": [
    "##### (5) Distribution of chronic conditions VS Urban/Rural Status"
   ]
  },
  {
   "cell_type": "code",
   "execution_count": 121,
   "id": "17f82ef1",
   "metadata": {},
   "outputs": [
    {
     "name": "stdout",
     "output_type": "stream",
     "text": [
      "\n",
      " Crosstab of ADDEPEV3 vs _URBSTAT\n",
      "ADDEPEV3  _URBSTAT       0       1\n",
      "0             1.00  424596  112109\n",
      "1             2.00   77261   18472\n",
      "\n",
      " Crosstab of _CASTHM1 vs _URBSTAT\n",
      "_CASTHM1  _URBSTAT      0       1\n",
      "0             1.00  37664  499041\n",
      "1             2.00   6915   88818\n",
      "\n",
      " Crosstab of COPD vs _URBSTAT\n",
      "COPD  _URBSTAT       0      1\n",
      "0         1.00  493400  43305\n",
      "1         2.00   85871   9862\n",
      "\n",
      " Crosstab of CNCR vs _URBSTAT\n",
      "CNCR  _URBSTAT       0      1\n",
      "0         1.00  437813  98892\n",
      "1         2.00   76352  19381\n",
      "\n",
      " Crosstab of CVD vs _URBSTAT\n",
      "CVD  _URBSTAT       0      1\n",
      "0        1.00  476135  60570\n",
      "1        2.00   82197  13536\n",
      "\n",
      " Crosstab of DIABETE4 vs _URBSTAT\n",
      "DIABETE4  _URBSTAT       0      1\n",
      "0             1.00  459967  76738\n",
      "1             2.00   80057  15676\n"
     ]
    }
   ],
   "source": [
    "crosstab_cond_demographic(\"_URBSTAT\")"
   ]
  },
  {
   "cell_type": "code",
   "execution_count": 122,
   "id": "f508182e",
   "metadata": {},
   "outputs": [
    {
     "data": {
      "image/png": "[encoded data removed]",
      "text/plain": [
       "<Figure size 792x576 with 1 Axes>"
      ]
     },
     "metadata": {},
     "output_type": "display_data"
    }
   ],
   "source": [
    "labels = [\"Urban\", \"Not sure\" ,\"Rural\"]\n",
    "plot_cond_demographic(\"_URBSTAT\", labels)"
   ]
  },
  {
   "attachments": {},
   "cell_type": "markdown",
   "id": "b9f6375e",
   "metadata": {},
   "source": [
    "##### (6) Distribution of chronic conditions VS Income"
   ]
  },
  {
   "cell_type": "code",
   "execution_count": 123,
   "id": "d51a3c45",
   "metadata": {},
   "outputs": [
    {
     "name": "stdout",
     "output_type": "stream",
     "text": [
      "\n",
      " Crosstab of ADDEPEV3 vs INCOME2\n",
      "ADDEPEV3  INCOME2       0      1\n",
      "0            1.00   10595   6888\n",
      "1            2.00   12379   7361\n",
      "2            3.00   18824   8530\n",
      "3            4.00   27351  10322\n",
      "4            5.00   45323  14382\n",
      "5            6.00   59534  15787\n",
      "6            7.00   75187  17507\n",
      "7            8.00  115624  21356\n",
      "8            9.00   32785   6752\n",
      "9           10.00   13810   2466\n",
      "10          11.00   13798   2027\n",
      "11          77.00   31552  10836\n",
      "12          99.00   45095   6367\n",
      "\n",
      " Crosstab of _CASTHM1 vs INCOME2\n",
      "_CASTHM1  INCOME2     0       1\n",
      "0            1.00  3014   14469\n",
      "1            2.00  3102   16638\n",
      "2            3.00  3380   23974\n",
      "3            4.00  3886   33787\n",
      "4            5.00  5010   54695\n",
      "5            6.00  5072   70249\n",
      "6            7.00  5340   87354\n",
      "7            8.00  6092  130888\n",
      "8            9.00  1876   37661\n",
      "9           10.00   644   15632\n",
      "10          11.00   532   15293\n",
      "11          77.00  3936   38452\n",
      "12          99.00  2695   48767\n",
      "\n",
      " Crosstab of COPD vs INCOME2\n",
      "COPD  INCOME2       0     1\n",
      "0        1.00   14046  3437\n",
      "1        2.00   15218  4522\n",
      "2        3.00   22458  4896\n",
      "3        4.00   32216  5457\n",
      "4        5.00   52859  6846\n",
      "5        6.00   68666  6655\n",
      "6        7.00   86872  5822\n",
      "7        8.00  131788  5192\n",
      "8        9.00   38229  1308\n",
      "9       10.00   15855   421\n",
      "10      11.00   15553   272\n",
      "11      77.00   37758  4630\n",
      "12      99.00   47753  3709\n",
      "\n",
      " Crosstab of CNCR vs INCOME2\n",
      "CNCR  INCOME2       0      1\n",
      "0        1.00   14959   2524\n",
      "1        2.00   15832   3908\n",
      "2        3.00   22173   5181\n",
      "3        4.00   30307   7366\n",
      "4        5.00   48173  11532\n",
      "5        6.00   60300  15021\n",
      "6        7.00   74895  17799\n",
      "7        8.00  112812  24168\n",
      "8        9.00   33351   6186\n",
      "9       10.00   13850   2426\n",
      "10      11.00   13458   2367\n",
      "11      77.00   35078   7310\n",
      "12      99.00   38977  12485\n",
      "\n",
      " Crosstab of CVD vs INCOME2\n",
      "CVD  INCOME2       0     1\n",
      "0       1.00   14107  3376\n",
      "1       2.00   15218  4522\n",
      "2       3.00   21828  5526\n",
      "3       4.00   31067  6606\n",
      "4       5.00   50722  8983\n",
      "5       6.00   65869  9452\n",
      "6       7.00   83218  9476\n",
      "7       8.00  127136  9844\n",
      "8       9.00   37022  2515\n",
      "9      10.00   15376   900\n",
      "10     11.00   15027   798\n",
      "11     77.00   36583  5805\n",
      "12     99.00   45159  6303\n",
      "\n",
      " Crosstab of DIABETE4 vs INCOME2\n",
      "DIABETE4  INCOME2       0      1\n",
      "0            1.00   13558   3925\n",
      "1            2.00   14677   5063\n",
      "2            3.00   21133   6221\n",
      "3            4.00   30083   7590\n",
      "4            5.00   48897  10808\n",
      "5            6.00   63371  11950\n",
      "6            7.00   79984  12710\n",
      "7            8.00  122991  13989\n",
      "8            9.00   35542   3995\n",
      "9           10.00   14906   1370\n",
      "10          11.00   14731   1094\n",
      "11          77.00   35798   6590\n",
      "12          99.00   44353   7109\n"
     ]
    }
   ],
   "source": [
    "crosstab_cond_demographic(\"INCOME2\")"
   ]
  },
  {
   "cell_type": "code",
   "execution_count": 124,
   "id": "8d5ca886",
   "metadata": {},
   "outputs": [
    {
     "data": {
      "text/plain": [
       "array([ 3.,  5.,  7., 77.,  8.,  6.,  4.,  2., nan,  1.])"
      ]
     },
     "execution_count": 124,
     "metadata": {},
     "output_type": "execute_result"
    }
   ],
   "source": [
    "# <Greg --- could you please add a comment here?>\n",
    "cf[\"INCOME2\"] = cf[\"INCOME2\"].replace({99:77, 9:8, 10:8, 11:8})\n",
    "cf[\"INCOME2\"].unique()"
   ]
  },
  {
   "cell_type": "code",
   "execution_count": 125,
   "id": "2745224f",
   "metadata": {},
   "outputs": [
    {
     "data": {
      "image/png": "[encoded data removed]",
      "text/plain": [
       "<Figure size 792x576 with 1 Axes>"
      ]
     },
     "metadata": {},
     "output_type": "display_data"
    }
   ],
   "source": [
    "labels = [\"< $10k\", \"$10k - $15k\", \"$15k - $20k\", \"$20k - $25k\", \"$25k - $35k\", \"$35k - $50k\", \"$50k - $75k\", \"$75k+\", \"Not sure\"]\n",
    "plot_cond_demographic(\"INCOME2\", labels)"
   ]
  },
  {
   "attachments": {},
   "cell_type": "markdown",
   "id": "af82ee26",
   "metadata": {},
   "source": [
    "#### 2.2 Distribution of chronic conditions vs geography\n",
    "##### Merging data from Region_Division_State with dataframe"
   ]
  },
  {
   "cell_type": "code",
   "execution_count": 126,
   "id": "91b77b5c",
   "metadata": {},
   "outputs": [],
   "source": [
    "regionCode = pd.read_excel('data/Region_Division_State.xlsx')\n",
    "df = df.merge(regionCode, how='left', left_on='STATE_CODE', right_on='StateFips')"
   ]
  },
  {
   "attachments": {},
   "cell_type": "markdown",
   "id": "30155998",
   "metadata": {},
   "source": [
    "##### Analyze 'CMB_binary' value distribution by state"
   ]
  },
  {
   "cell_type": "code",
   "execution_count": 148,
   "id": "c6708aad",
   "metadata": {},
   "outputs": [
    {
     "data": {
      "text/plain": [
       "Name\n",
       "Hawaii          0.38\n",
       "California      0.39\n",
       "Alaska          0.40\n",
       "New Jersey      0.40\n",
       "Colorado        0.41\n",
       "Illinois        0.41\n",
       "Massachusetts   0.42\n",
       "Iowa            0.42\n",
       "Minnesota       0.43\n",
       "Connecticut     0.43\n",
       "Name: CMB_binary, dtype: float64"
      ]
     },
     "execution_count": 148,
     "metadata": {},
     "output_type": "execute_result"
    }
   ],
   "source": [
    "df[\"CMB_binary\"] = df[\"CMB_binary\"].astype(int)\n",
    "cmb_binary_freq = df.groupby('Name')['CMB_binary'].mean().sort_values()\n",
    "cmb_binary_freq.head(10)"
   ]
  },
  {
   "cell_type": "code",
   "execution_count": 129,
   "id": "32fa615c",
   "metadata": {},
   "outputs": [
    {
     "data": {
      "text/plain": [
       "<AxesSubplot:xlabel='Name'>"
      ]
     },
     "execution_count": 129,
     "metadata": {},
     "output_type": "execute_result"
    },
    {
     "data": {
      "image/png": "[encoded data removed]",
      "text/plain": [
       "<Figure size 792x576 with 1 Axes>"
      ]
     },
     "metadata": {},
     "output_type": "display_data"
    }
   ],
   "source": [
    "# plot a histogram of the data\n",
    "cmb_binary_freq.plot(kind='bar')"
   ]
  },
  {
   "cell_type": "code",
   "execution_count": 149,
   "id": "9743627c",
   "metadata": {},
   "outputs": [
    {
     "data": {
      "text/plain": [
       "Name\n",
       "Maine           0.50\n",
       "Ohio            0.50\n",
       "Mississippi     0.50\n",
       "Louisiana       0.50\n",
       "Tennessee       0.52\n",
       "Kentucky        0.53\n",
       "Florida         0.53\n",
       "Alabama         0.53\n",
       "West Virginia   0.56\n",
       "Arkansas        0.58\n",
       "Name: CMB_binary, dtype: float64"
      ]
     },
     "execution_count": 149,
     "metadata": {},
     "output_type": "execute_result"
    }
   ],
   "source": [
    "cmb_binary_freq.tail(10)"
   ]
  },
  {
   "attachments": {},
   "cell_type": "markdown",
   "id": "810ffa5f",
   "metadata": {},
   "source": [
    "    • From 'CMB_binary' column, we know the 10 most healthy states are: Hawaii, California, Alaska, New Jersey, Colorado, Illinois, Massachusetts, Iowa, Minnesota, Connecticut;\n",
    "    • From 'CMB_binary' column, we know the 10 least healthy states are: Arkansas, West Virginia, Alabama, Florida, Kentucky, Tennessee, Louisiana, Mississippi, Ohio, Maine "
   ]
  },
  {
   "cell_type": "code",
   "execution_count": 150,
   "id": "acfab83e",
   "metadata": {},
   "outputs": [
    {
     "data": {
      "text/html": [
       "<div>\n",
       "<style scoped>\n",
       "    .dataframe tbody tr th:only-of-type {\n",
       "        vertical-align: middle;\n",
       "    }\n",
       "\n",
       "    .dataframe tbody tr th {\n",
       "        vertical-align: top;\n",
       "    }\n",
       "\n",
       "    .dataframe thead th {\n",
       "        text-align: right;\n",
       "    }\n",
       "</style>\n",
       "<table border=\"1\" class=\"dataframe\">\n",
       "  <thead>\n",
       "    <tr style=\"text-align: right;\">\n",
       "      <th></th>\n",
       "      <th>Name</th>\n",
       "      <th>level_1</th>\n",
       "      <th>CMB_multiclass</th>\n",
       "    </tr>\n",
       "  </thead>\n",
       "  <tbody>\n",
       "    <tr>\n",
       "      <th>0</th>\n",
       "      <td>Alabama</td>\n",
       "      <td>0</td>\n",
       "      <td>0.47</td>\n",
       "    </tr>\n",
       "    <tr>\n",
       "      <th>1</th>\n",
       "      <td>Alabama</td>\n",
       "      <td>1</td>\n",
       "      <td>0.32</td>\n",
       "    </tr>\n",
       "    <tr>\n",
       "      <th>2</th>\n",
       "      <td>Alabama</td>\n",
       "      <td>2</td>\n",
       "      <td>0.15</td>\n",
       "    </tr>\n",
       "    <tr>\n",
       "      <th>3</th>\n",
       "      <td>Alabama</td>\n",
       "      <td>3+</td>\n",
       "      <td>0.06</td>\n",
       "    </tr>\n",
       "    <tr>\n",
       "      <th>4</th>\n",
       "      <td>Alaska</td>\n",
       "      <td>0</td>\n",
       "      <td>0.60</td>\n",
       "    </tr>\n",
       "    <tr>\n",
       "      <th>...</th>\n",
       "      <td>...</td>\n",
       "      <td>...</td>\n",
       "      <td>...</td>\n",
       "    </tr>\n",
       "    <tr>\n",
       "      <th>199</th>\n",
       "      <td>Wisconsin</td>\n",
       "      <td>3+</td>\n",
       "      <td>0.03</td>\n",
       "    </tr>\n",
       "    <tr>\n",
       "      <th>200</th>\n",
       "      <td>Wyoming</td>\n",
       "      <td>0</td>\n",
       "      <td>0.52</td>\n",
       "    </tr>\n",
       "    <tr>\n",
       "      <th>201</th>\n",
       "      <td>Wyoming</td>\n",
       "      <td>1</td>\n",
       "      <td>0.32</td>\n",
       "    </tr>\n",
       "    <tr>\n",
       "      <th>202</th>\n",
       "      <td>Wyoming</td>\n",
       "      <td>2</td>\n",
       "      <td>0.12</td>\n",
       "    </tr>\n",
       "    <tr>\n",
       "      <th>203</th>\n",
       "      <td>Wyoming</td>\n",
       "      <td>3+</td>\n",
       "      <td>0.04</td>\n",
       "    </tr>\n",
       "  </tbody>\n",
       "</table>\n",
       "<p>204 rows × 3 columns</p>\n",
       "</div>"
      ],
      "text/plain": [
       "          Name level_1  CMB_multiclass\n",
       "0      Alabama       0            0.47\n",
       "1      Alabama       1            0.32\n",
       "2      Alabama       2            0.15\n",
       "3      Alabama      3+            0.06\n",
       "4       Alaska       0            0.60\n",
       "..         ...     ...             ...\n",
       "199  Wisconsin      3+            0.03\n",
       "200    Wyoming       0            0.52\n",
       "201    Wyoming       1            0.32\n",
       "202    Wyoming       2            0.12\n",
       "203    Wyoming      3+            0.04\n",
       "\n",
       "[204 rows x 3 columns]"
      ]
     },
     "execution_count": 150,
     "metadata": {},
     "output_type": "execute_result"
    }
   ],
   "source": [
    "# cmb_multiclass_freq = df.groupby('Name')['CMB_multiclass'].value_counts(normalize=True).reset_index()\n",
    "cmb_multiclass_freq = df.groupby('Name')['CMB_multiclass'].value_counts(normalize=True).reset_index()\n",
    "cmb_multiclass_freq"
   ]
  },
  {
   "cell_type": "code",
   "execution_count": 151,
   "id": "c1d59505",
   "metadata": {},
   "outputs": [
    {
     "name": "stdout",
     "output_type": "stream",
     "text": [
      "Group 0:\n",
      "          Name level_1  CMB_multiclass\n",
      "0      Alabama       0            0.47\n",
      "4       Alaska       0            0.60\n",
      "8      Arizona       0            0.52\n",
      "12    Arkansas       0            0.42\n",
      "16  California       0            0.61\n",
      "Group 1:\n",
      "          Name level_1  CMB_multiclass\n",
      "1      Alabama       1            0.32\n",
      "5       Alaska       1            0.28\n",
      "9      Arizona       1            0.32\n",
      "13    Arkansas       1            0.34\n",
      "17  California       1            0.28\n",
      "Group 2:\n",
      "          Name level_1  CMB_multiclass\n",
      "2      Alabama       2            0.15\n",
      "6       Alaska       2            0.09\n",
      "10     Arizona       2            0.12\n",
      "14    Arkansas       2            0.16\n",
      "18  California       2            0.08\n",
      "Group 3+:\n",
      "          Name level_1  CMB_multiclass\n",
      "3      Alabama      3+            0.06\n",
      "7       Alaska      3+            0.03\n",
      "11     Arizona      3+            0.04\n",
      "15    Arkansas      3+            0.07\n",
      "19  California      3+            0.03\n"
     ]
    }
   ],
   "source": [
    "# Group the DataFrame by the 'b' column\n",
    "groups = cmb_multiclass_freq.groupby('level_1')\n",
    "\n",
    "# Create a dictionary of DataFrames, with one DataFrame for each group\n",
    "dict_of_dfs = {group_name: group_df for group_name, group_df in groups}\n",
    "\n",
    "# Print each DataFrame in the dictionary\n",
    "for group_name, group_df in dict_of_dfs.items():\n",
    "    dict_of_dfs[group_name] = group_df.sort_values(by='CMB_multiclass')\n",
    "    print(f\"Group {group_name}:\")\n",
    "    print(group_df.head())\n"
   ]
  },
  {
   "cell_type": "code",
   "execution_count": 143,
   "id": "034c55db",
   "metadata": {},
   "outputs": [
    {
     "data": {
      "image/png": "[encoded data removed]",
      "text/plain": [
       "<Figure size 720x432 with 1 Axes>"
      ]
     },
     "metadata": {},
     "output_type": "display_data"
    },
    {
     "data": {
      "image/png": "[encoded data removed]",
      "text/plain": [
       "<Figure size 720x432 with 1 Axes>"
      ]
     },
     "metadata": {},
     "output_type": "display_data"
    },
    {
     "data": {
      "image/png": "[encoded data removed]",
      "text/plain": [
       "<Figure size 720x432 with 1 Axes>"
      ]
     },
     "metadata": {},
     "output_type": "display_data"
    },
    {
     "data": {
      "image/png": "[encoded data removed]",
      "text/plain": [
       "<Figure size 720x432 with 1 Axes>"
      ]
     },
     "metadata": {},
     "output_type": "display_data"
    }
   ],
   "source": [
    "def plot_cmb_multi(df_name, df):\n",
    "    # Assuming your dataframe is called cmb_multiclass_freq\n",
    "    fig, ax = plt.subplots(figsize=(10, 6))\n",
    "    df.plot(kind='bar', x='Name', y='CMB_multiclass',ax=ax)\n",
    "\n",
    "    # Set the labels for x-axis and y-axis\n",
    "    ax.set_xlabel('State')\n",
    "    ax.set_ylabel('Percentage')\n",
    "\n",
    "    # Set the title for the plot\n",
    "    ax.set_title(f'Histogram of CMB_multiclass by with {df_name} chronics')\n",
    "\n",
    "    # Show the plot\n",
    "    plt.show()\n",
    "for group_name, group_df in dict_of_dfs.items():\n",
    "    plot_cmb_multi(group_name, group_df)"
   ]
  },
  {
   "cell_type": "code",
   "execution_count": 154,
   "id": "a40dee12",
   "metadata": {},
   "outputs": [
    {
     "name": "stdout",
     "output_type": "stream",
     "text": [
      "Group 0\n",
      "              Name level_1  CMB_multiclass\n",
      "12        Arkansas       0            0.42\n",
      "192  West Virginia       0            0.44\n",
      "0          Alabama       0            0.47\n",
      "36         Florida       0            0.47\n",
      "68        Kentucky       0            0.47\n",
      "168      Tennessee       0            0.48\n",
      "72       Louisiana       0            0.50\n",
      "96     Mississippi       0            0.50\n",
      "140           Ohio       0            0.50\n",
      "76           Maine       0            0.50\n",
      "              Name level_1  CMB_multiclass\n",
      "24     Connecticut       0            0.57\n",
      "92       Minnesota       0            0.57\n",
      "60            Iowa       0            0.58\n",
      "84   Massachusetts       0            0.58\n",
      "52        Illinois       0            0.59\n",
      "20        Colorado       0            0.59\n",
      "120     New Jersey       0            0.60\n",
      "4           Alaska       0            0.60\n",
      "16      California       0            0.61\n",
      "44          Hawaii       0            0.62\n"
     ]
    }
   ],
   "source": [
    "group_df = dict_of_dfs[0]\n",
    "print(f\"Group 0\")\n",
    "print(group_df.head(10))\n",
    "print(group_df.tail(10))"
   ]
  },
  {
   "cell_type": "code",
   "execution_count": 155,
   "id": "29a43d20",
   "metadata": {},
   "outputs": [
    {
     "name": "stdout",
     "output_type": "stream",
     "text": [
      "Group 1\n",
      "              Name level_1  CMB_multiclass\n",
      "45          Hawaii       1            0.28\n",
      "17      California       1            0.28\n",
      "121     New Jersey       1            0.28\n",
      "5           Alaska       1            0.28\n",
      "53        Illinois       1            0.29\n",
      "85   Massachusetts       1            0.29\n",
      "61            Iowa       1            0.29\n",
      "153   Pennsylvania       1            0.29\n",
      "21        Colorado       1            0.30\n",
      "109       Nebraska       1            0.30\n",
      "              Name level_1  CMB_multiclass\n",
      "201        Wyoming       1            0.32\n",
      "189     Washington       1            0.32\n",
      "1          Alabama       1            0.32\n",
      "157   Rhode Island       1            0.32\n",
      "77           Maine       1            0.33\n",
      "89        Michigan       1            0.33\n",
      "149         Oregon       1            0.33\n",
      "181        Vermont       1            0.33\n",
      "117  New Hampshire       1            0.33\n",
      "13        Arkansas       1            0.34\n"
     ]
    }
   ],
   "source": [
    "group_df = dict_of_dfs[1]\n",
    "print(f\"Group 1\")\n",
    "print(group_df.head(10))\n",
    "print(group_df.tail(10))"
   ]
  },
  {
   "cell_type": "code",
   "execution_count": 156,
   "id": "2795c0e4",
   "metadata": {},
   "outputs": [
    {
     "name": "stdout",
     "output_type": "stream",
     "text": [
      "Group 2\n",
      "                     Name level_1  CMB_multiclass\n",
      "46                 Hawaii       2            0.08\n",
      "18             California       2            0.08\n",
      "22               Colorado       2            0.09\n",
      "122            New Jersey       2            0.09\n",
      "34   District of Columbia       2            0.09\n",
      "6                  Alaska       2            0.09\n",
      "54               Illinois       2            0.09\n",
      "178                  Utah       2            0.09\n",
      "26            Connecticut       2            0.09\n",
      "86          Massachusetts       2            0.09\n",
      "               Name level_1  CMB_multiclass\n",
      "170       Tennessee       2            0.13\n",
      "162  South Carolina       2            0.13\n",
      "74        Louisiana       2            0.14\n",
      "142            Ohio       2            0.14\n",
      "98      Mississippi       2            0.14\n",
      "70         Kentucky       2            0.14\n",
      "38          Florida       2            0.15\n",
      "2           Alabama       2            0.15\n",
      "194   West Virginia       2            0.16\n",
      "14         Arkansas       2            0.16\n"
     ]
    }
   ],
   "source": [
    "group_df = dict_of_dfs[2]\n",
    "print(f\"Group 2\")\n",
    "print(group_df.head(10))\n",
    "print(group_df.tail(10))"
   ]
  },
  {
   "cell_type": "code",
   "execution_count": 158,
   "id": "d0e132fd",
   "metadata": {},
   "outputs": [
    {
     "name": "stdout",
     "output_type": "stream",
     "text": [
      "Group 3+\n",
      "                     Name level_1  CMB_multiclass\n",
      "47                 Hawaii      3+            0.02\n",
      "35   District of Columbia      3+            0.02\n",
      "23               Colorado      3+            0.02\n",
      "7                  Alaska      3+            0.03\n",
      "179                  Utah      3+            0.03\n",
      "19             California      3+            0.03\n",
      "95              Minnesota      3+            0.03\n",
      "199             Wisconsin      3+            0.03\n",
      "27            Connecticut      3+            0.03\n",
      "87          Massachusetts      3+            0.03\n",
      "              Name level_1  CMB_multiclass\n",
      "103       Missouri      3+            0.05\n",
      "99     Mississippi      3+            0.05\n",
      "147       Oklahoma      3+            0.06\n",
      "143           Ohio      3+            0.06\n",
      "3          Alabama      3+            0.06\n",
      "39         Florida      3+            0.07\n",
      "171      Tennessee      3+            0.07\n",
      "71        Kentucky      3+            0.07\n",
      "15        Arkansas      3+            0.07\n",
      "195  West Virginia      3+            0.08\n"
     ]
    }
   ],
   "source": [
    "group_df = dict_of_dfs['3+']\n",
    "print(f\"Group 3+\")\n",
    "print(group_df.head(10))\n",
    "print(group_df.tail(10))"
   ]
  },
  {
   "cell_type": "code",
   "execution_count": null,
   "id": "13afcb79",
   "metadata": {},
   "outputs": [],
   "source": []
  },
  {
   "cell_type": "markdown",
   "id": "e8183219",
   "metadata": {},
   "source": [
    "    • From 'CMB_binary' column, we know the 10 most healthy states are: Hawaii, California, Alaska, New Jersey, Colorado, Illinois, Massachusetts, Iowa, Minnesota, Connecticut;\n",
    "    • From 'CMB_binary' column, we know the 10 least healthy states are: Arkansas, West Virginia, Alabama, Florida, Kentucky, Tennessee, Louisiana, Mississippi, Ohio, Maine "
   ]
  }
 ],
 "metadata": {
  "kernelspec": {
   "display_name": "Python 3.10.9 ('ML')",
   "language": "python",
   "name": "python3"
  },
  "language_info": {
   "codemirror_mode": {
    "name": "ipython",
    "version": 3
   },
   "file_extension": ".py",
   "mimetype": "text/x-python",
   "name": "python",
   "nbconvert_exporter": "python",
   "pygments_lexer": "ipython3",
   "version": "3.9.12"
  },
  "vscode": {
   "interpreter": {
    "hash": "f281129a75cd910c7aaa14d489ea111e9097828042692ebdd0807a5712eac42e"
   }
  }
 },
 "nbformat": 4,
 "nbformat_minor": 5
}
